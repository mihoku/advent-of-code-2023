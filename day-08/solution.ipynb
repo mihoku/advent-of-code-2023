{
    "cells": [
        {
            "cell_type": "code",
            "execution_count": 2,
            "metadata": {},
            "outputs": [
                {
                    "data": {
                        "text/plain": [
                            "19637"
                        ]
                    },
                    "execution_count": 2,
                    "metadata": {},
                    "output_type": "execute_result"
                }
            ],
            "source": [
                "def readfile(file, mode=''):\n",
                "    with open(file) as f:\n",
                "        contents = f.read()[:-1]\n",
                "    \n",
                "    instruction = contents.split('\\n\\n')[0]\n",
                "\n",
                "    network = {}\n",
                "    \n",
                "    for node in contents.split('\\n\\n')[1].split('\\n'):\n",
                "        content = node.split(' = ')[1].strip('()').split(', ')\n",
                "        network[node.split(' = ')[0]] = {'L':content[0],'R':content[1]}\n",
                "    \n",
                "    return instruction, network\n",
                "\n",
                "def step_counter(step, instruction, network, position='AAA'):\n",
                "    while position!='ZZZ':\n",
                "        step=step+1\n",
                "        position = network[position][instruction[(step%len(instruction))-1]]\n",
                "    return step\n",
                "\n",
                "def aoc_day8a_solution(file):\n",
                "    instruction, network = readfile(file)\n",
                "    return step_counter(0, instruction, network)\n",
                "\n",
                "aoc_day8a_solution('input.txt')"
            ]
        },
        {
            "cell_type": "code",
            "execution_count": 4,
            "metadata": {},
            "outputs": [
                {
                    "data": {
                        "text/plain": [
                            "8811050362409"
                        ]
                    },
                    "execution_count": 4,
                    "metadata": {},
                    "output_type": "execute_result"
                }
            ],
            "source": [
                "import math\n",
                "\n",
                "def modified_step_counter(step, instruction, network, position):\n",
                "    \n",
                "    while position[-1]!='Z':        \n",
                "        step=step+1\n",
                "        position = network[position][instruction[(step%len(instruction))-1]]\n",
                "    return step\n",
                "\n",
                "def aoc_day8b_solution(file):\n",
                "    instruction, network = readfile(file)\n",
                "    required_steps_list = [modified_step_counter(0, instruction, network, position) for position in network.keys() if position[-1]=='A']    \n",
                "    lcm = 1\n",
                "    for i in required_steps_list:\n",
                "        lcm = math.lcm(lcm,i)\n",
                "    return lcm\n",
                "\n",
                "aoc_day8b_solution('input.txt')"
            ]
        },
        {
            "cell_type": "code",
            "execution_count": null,
            "metadata": {},
            "outputs": [],
            "source": []
        }
    ],
    "metadata": {
        "kernelspec": {
            "display_name": "Python 3",
            "language": "python",
            "name": "python3"
        },
        "language_info": {
            "codemirror_mode": {
                "name": "ipython",
                "version": 3
            },
            "file_extension": ".py",
            "mimetype": "text/x-python",
            "name": "python",
            "nbconvert_exporter": "python",
            "pygments_lexer": "ipython3",
            "version": "3.9.13"
        }
    },
    "nbformat": 4,
    "nbformat_minor": 2
}
