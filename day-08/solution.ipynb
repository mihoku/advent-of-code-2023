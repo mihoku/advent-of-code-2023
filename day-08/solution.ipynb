{
    "cells": [
        {
            "cell_type": "code",
            "execution_count": 5,
            "metadata": {},
            "outputs": [
                {
                    "data": {
                        "text/plain": [
                            "19637"
                        ]
                    },
                    "execution_count": 5,
                    "metadata": {},
                    "output_type": "execute_result"
                }
            ],
            "source": [
                "def readfile(file, mode=''):\n",
                "    with open(file) as f:\n",
                "        contents = f.read()[:-1]\n",
                "    \n",
                "    instruction = contents.split('\\n\\n')[0]\n",
                "\n",
                "    network = {}\n",
                "    \n",
                "    for node in contents.split('\\n\\n')[1].split('\\n'):\n",
                "        content = node.split(' = ')[1].strip('()').split(', ')\n",
                "        network[node.split(' = ')[0]] = {'L':content[0],'R':content[1]}\n",
                "    \n",
                "    return instruction, network\n",
                "\n",
                "def step_counter(step, instruction, network, position='AAA'):\n",
                "    while position!='ZZZ':\n",
                "        step=step+1\n",
                "        position = network[position][instruction[(step%len(instruction))-1]]\n",
                "    return step\n",
                "\n",
                "\n",
                "instruction, network = readfile('input.txt')\n",
                "step_counter(0, instruction, network)"
            ]
        },
        {
            "cell_type": "code",
            "execution_count": null,
            "metadata": {},
            "outputs": [],
            "source": [
                "99%100"
            ]
        },
        {
            "cell_type": "code",
            "execution_count": null,
            "metadata": {},
            "outputs": [],
            "source": []
        }
    ],
    "metadata": {
        "kernelspec": {
            "display_name": "Python 3",
            "language": "python",
            "name": "python3"
        },
        "language_info": {
            "codemirror_mode": {
                "name": "ipython",
                "version": 3
            },
            "file_extension": ".py",
            "mimetype": "text/x-python",
            "name": "python",
            "nbconvert_exporter": "python",
            "pygments_lexer": "ipython3",
            "version": "3.9.13"
        }
    },
    "nbformat": 4,
    "nbformat_minor": 2
}
