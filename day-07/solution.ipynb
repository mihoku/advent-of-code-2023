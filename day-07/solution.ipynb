{
 "cells": [
  {
   "cell_type": "code",
   "execution_count": 12,
   "metadata": {},
   "outputs": [
    {
     "ename": "TypeError",
     "evalue": "unsupported operand type(s) for +: 'int' and 'str'",
     "output_type": "error",
     "traceback": [
      "\u001b[1;31m---------------------------------------------------------------------------\u001b[0m",
      "\u001b[1;31mTypeError\u001b[0m                                 Traceback (most recent call last)",
      "\u001b[1;32md:\\Projects\\Advent of Code\\2023\\advent-of-code-2023\\day-07\\solution.ipynb Cell 1\u001b[0m line \u001b[0;36m5\n\u001b[0;32m     <a href='vscode-notebook-cell:/d%3A/Projects/Advent%20of%20Code/2023/advent-of-code-2023/day-07/solution.ipynb#W0sZmlsZQ%3D%3D?line=49'>50</a>\u001b[0m     handcard_category_value \u001b[39m=\u001b[39m handcard_categorization(handcard)\n\u001b[0;32m     <a href='vscode-notebook-cell:/d%3A/Projects/Advent%20of%20Code/2023/advent-of-code-2023/day-07/solution.ipynb#W0sZmlsZQ%3D%3D?line=50'>51</a>\u001b[0m     \u001b[39mreturn\u001b[39;00m \u001b[39msum\u001b[39m([handcard_category_value]\u001b[39m+\u001b[39m[handcard[\u001b[39m-\u001b[39m(i\u001b[39m+\u001b[39m\u001b[39m1\u001b[39m)]\u001b[39m*\u001b[39m(\u001b[39m10\u001b[39m\u001b[39m*\u001b[39m\u001b[39m*\u001b[39mi) \u001b[39mfor\u001b[39;00m i \u001b[39min\u001b[39;00m \u001b[39mrange\u001b[39m(\u001b[39mlen\u001b[39m(handcard))])\n\u001b[1;32m---> <a href='vscode-notebook-cell:/d%3A/Projects/Advent%20of%20Code/2023/advent-of-code-2023/day-07/solution.ipynb#W0sZmlsZQ%3D%3D?line=52'>53</a>\u001b[0m readfile(\u001b[39m'\u001b[39;49m\u001b[39minput.txt\u001b[39;49m\u001b[39m'\u001b[39;49m)\n",
      "\u001b[1;32md:\\Projects\\Advent of Code\\2023\\advent-of-code-2023\\day-07\\solution.ipynb Cell 1\u001b[0m line \u001b[0;36m1\n\u001b[0;32m      <a href='vscode-notebook-cell:/d%3A/Projects/Advent%20of%20Code/2023/advent-of-code-2023/day-07/solution.ipynb#W0sZmlsZQ%3D%3D?line=6'>7</a>\u001b[0m     hand_card_dictionary[i] \u001b[39m=\u001b[39m {\u001b[39m'\u001b[39m\u001b[39mhand\u001b[39m\u001b[39m'\u001b[39m:contents[i]\u001b[39m.\u001b[39msplit()[\u001b[39m0\u001b[39m], \u001b[39m'\u001b[39m\u001b[39mbet\u001b[39m\u001b[39m'\u001b[39m:\u001b[39mint\u001b[39m(contents[i]\u001b[39m.\u001b[39msplit()[\u001b[39m1\u001b[39m])}\n\u001b[0;32m      <a href='vscode-notebook-cell:/d%3A/Projects/Advent%20of%20Code/2023/advent-of-code-2023/day-07/solution.ipynb#W0sZmlsZQ%3D%3D?line=8'>9</a>\u001b[0m \u001b[39mfor\u001b[39;00m i \u001b[39min\u001b[39;00m hand_card_dictionary\u001b[39m.\u001b[39mkeys():\n\u001b[1;32m---> <a href='vscode-notebook-cell:/d%3A/Projects/Advent%20of%20Code/2023/advent-of-code-2023/day-07/solution.ipynb#W0sZmlsZQ%3D%3D?line=9'>10</a>\u001b[0m     hand_card_dictionary[i][\u001b[39m'\u001b[39m\u001b[39mvalue\u001b[39m\u001b[39m'\u001b[39m] \u001b[39m=\u001b[39m handcard_valuation(hand_card_dictionary[i][\u001b[39m'\u001b[39;49m\u001b[39mhand\u001b[39;49m\u001b[39m'\u001b[39;49m])\n\u001b[0;32m     <a href='vscode-notebook-cell:/d%3A/Projects/Advent%20of%20Code/2023/advent-of-code-2023/day-07/solution.ipynb#W0sZmlsZQ%3D%3D?line=11'>12</a>\u001b[0m \u001b[39mreturn\u001b[39;00m hand_card_dictionary\n",
      "\u001b[1;32md:\\Projects\\Advent of Code\\2023\\advent-of-code-2023\\day-07\\solution.ipynb Cell 1\u001b[0m line \u001b[0;36m5\n\u001b[0;32m     <a href='vscode-notebook-cell:/d%3A/Projects/Advent%20of%20Code/2023/advent-of-code-2023/day-07/solution.ipynb#W0sZmlsZQ%3D%3D?line=48'>49</a>\u001b[0m \u001b[39mdef\u001b[39;00m \u001b[39mhandcard_valuation\u001b[39m(handcard):\n\u001b[0;32m     <a href='vscode-notebook-cell:/d%3A/Projects/Advent%20of%20Code/2023/advent-of-code-2023/day-07/solution.ipynb#W0sZmlsZQ%3D%3D?line=49'>50</a>\u001b[0m     handcard_category_value \u001b[39m=\u001b[39m handcard_categorization(handcard)\n\u001b[1;32m---> <a href='vscode-notebook-cell:/d%3A/Projects/Advent%20of%20Code/2023/advent-of-code-2023/day-07/solution.ipynb#W0sZmlsZQ%3D%3D?line=50'>51</a>\u001b[0m     \u001b[39mreturn\u001b[39;00m \u001b[39msum\u001b[39;49m([handcard_category_value]\u001b[39m+\u001b[39;49m[handcard[\u001b[39m-\u001b[39;49m(i\u001b[39m+\u001b[39;49m\u001b[39m1\u001b[39;49m)]\u001b[39m*\u001b[39;49m(\u001b[39m10\u001b[39;49m\u001b[39m*\u001b[39;49m\u001b[39m*\u001b[39;49mi) \u001b[39mfor\u001b[39;49;00m i \u001b[39min\u001b[39;49;00m \u001b[39mrange\u001b[39;49m(\u001b[39mlen\u001b[39;49m(handcard))])\n",
      "\u001b[1;31mTypeError\u001b[0m: unsupported operand type(s) for +: 'int' and 'str'"
     ]
    }
   ],
   "source": [
    "def readfile(file):\n",
    "    with open(file) as f:\n",
    "        contents = f.read()[:-1].split('\\n')\n",
    "    \n",
    "    hand_card_dictionary = {}\n",
    "    for i in range(len(contents)):\n",
    "        hand_card_dictionary[i] = {'hand':contents[i].split()[0], 'bet':int(contents[i].split()[1])}\n",
    "    \n",
    "    for i in hand_card_dictionary.keys():\n",
    "        hand_card_dictionary[i]['value'] = handcard_valuation(hand_card_dictionary[i]['hand'])\n",
    "\n",
    "    return hand_card_dictionary\n",
    "\n",
    "def handcard_categorization(handcard):\n",
    "    card_set = set(handcard)\n",
    "    if len(card_set)==1:\n",
    "        return 7 # Five of a kind\n",
    "\n",
    "    elif len(card_set)==2:\n",
    "        four_elem = False\n",
    "        for i in card_set:\n",
    "            if len([j for j in handcard if j == i])==4:\n",
    "                four_elem=True\n",
    "        if four_elem==True:\n",
    "            return 6 # Four of a kind\n",
    "        else:\n",
    "            return 5 # Full house\n",
    "\n",
    "    elif len(card_set)==3:\n",
    "        three_elem=False\n",
    "        for i in card_set:\n",
    "            if len([j for j in handcard if j == i])==3:\n",
    "                three_elem=True\n",
    "            if three_elem==True:\n",
    "                return 4 # Three of a kind\n",
    "            else:\n",
    "                return 3 # Two pair\n",
    "\n",
    "    elif len(card_set)==4:\n",
    "        return 2 # One pair\n",
    "\n",
    "    else:\n",
    "        return 1 # High card\n",
    "\n",
    "def card_valuation(card):\n",
    "    card_reference = [str(i) for i in range(2,10)]+['T','J','Q','K','A']\n",
    "    return card_reference.index(card)\n",
    "\n",
    "def handcard_valuation(handcard):\n",
    "    handcard_category_value = handcard_categorization(handcard)\n",
    "    return sum([handcard_category_value]+[card_valuation(handcard[-(i+1)])*(10**i) for i in range(len(handcard))])\n",
    "\n",
    "readfile('input.txt')"
   ]
  },
  {
   "cell_type": "code",
   "execution_count": 4,
   "metadata": {},
   "outputs": [
    {
     "name": "stdout",
     "output_type": "stream",
     "text": [
      "65\n"
     ]
    },
    {
     "data": {
      "text/plain": [
       "49"
      ]
     },
     "execution_count": 4,
     "metadata": {},
     "output_type": "execute_result"
    }
   ],
   "source": [
    "print(ord('A'))\n",
    "ord('1')"
   ]
  },
  {
   "cell_type": "code",
   "execution_count": 5,
   "metadata": {},
   "outputs": [
    {
     "data": {
      "text/plain": [
       "['2', '3', '4', '5', '6', '7', '8', '9', 'T', 'J', 'Q', 'K', 'A']"
      ]
     },
     "execution_count": 5,
     "metadata": {},
     "output_type": "execute_result"
    }
   ],
   "source": [
    "card_reference = [str(i) for i in range(2,10)]+['T','J','Q','K','A']\n",
    "card_reference"
   ]
  },
  {
   "cell_type": "code",
   "execution_count": 7,
   "metadata": {},
   "outputs": [
    {
     "data": {
      "text/plain": [
       "{'A'}"
      ]
     },
     "execution_count": 7,
     "metadata": {},
     "output_type": "execute_result"
    }
   ],
   "source": [
    "set('AAAA')"
   ]
  },
  {
   "cell_type": "code",
   "execution_count": 9,
   "metadata": {},
   "outputs": [
    {
     "data": {
      "text/plain": [
       "'5'"
      ]
     },
     "execution_count": 9,
     "metadata": {},
     "output_type": "execute_result"
    }
   ],
   "source": [
    "test = '757T6'\n",
    "test[-4]"
   ]
  },
  {
   "cell_type": "code",
   "execution_count": 11,
   "metadata": {},
   "outputs": [
    {
     "ename": "TypeError",
     "evalue": "can only concatenate list (not \"int\") to list",
     "output_type": "error",
     "traceback": [
      "\u001b[1;31m---------------------------------------------------------------------------\u001b[0m",
      "\u001b[1;31mTypeError\u001b[0m                                 Traceback (most recent call last)",
      "\u001b[1;32md:\\Projects\\Advent of Code\\2023\\advent-of-code-2023\\day-07\\solution.ipynb Cell 6\u001b[0m line \u001b[0;36m1\n\u001b[1;32m----> <a href='vscode-notebook-cell:/d%3A/Projects/Advent%20of%20Code/2023/advent-of-code-2023/day-07/solution.ipynb#W5sZmlsZQ%3D%3D?line=0'>1</a>\u001b[0m \u001b[39msum\u001b[39;49m([\u001b[39m1\u001b[39;49m],[\u001b[39m2\u001b[39;49m,\u001b[39m3\u001b[39;49m,\u001b[39m4\u001b[39;49m])\n",
      "\u001b[1;31mTypeError\u001b[0m: can only concatenate list (not \"int\") to list"
     ]
    }
   ],
   "source": [
    "sum([1],[2,3,4])"
   ]
  },
  {
   "cell_type": "code",
   "execution_count": null,
   "metadata": {},
   "outputs": [],
   "source": []
  }
 ],
 "metadata": {
  "kernelspec": {
   "display_name": "Python 3",
   "language": "python",
   "name": "python3"
  },
  "language_info": {
   "codemirror_mode": {
    "name": "ipython",
    "version": 3
   },
   "file_extension": ".py",
   "mimetype": "text/x-python",
   "name": "python",
   "nbconvert_exporter": "python",
   "pygments_lexer": "ipython3",
   "version": "3.9.13"
  }
 },
 "nbformat": 4,
 "nbformat_minor": 2
}
