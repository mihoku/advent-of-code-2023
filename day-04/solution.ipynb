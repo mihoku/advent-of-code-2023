{
 "cells": [
  {
   "cell_type": "code",
   "execution_count": 11,
   "metadata": {},
   "outputs": [
    {
     "data": {
      "text/plain": [
       "25231"
      ]
     },
     "execution_count": 11,
     "metadata": {},
     "output_type": "execute_result"
    }
   ],
   "source": [
    "def readfile(file):\n",
    "    with open(file) as f:\n",
    "        contents = f.read()\n",
    "    \n",
    "    line_list = contents.split('\\n')[:-1]\n",
    "\n",
    "    result_dictionary = {}\n",
    "\n",
    "    for line in line_list:\n",
    "        line_content = line.replace(\"   \",\"  \").replace(\"  \",\" \").split(\": \")\n",
    "        card_number = int(line_content[0].split(\" \")[1])\n",
    "        line_scratchcards = line_content[1].split(\" | \")\n",
    "        winning_numbers = [int(i) for i in line_scratchcards[0].split(\" \")]\n",
    "        card_list = [int(i) for i in line_scratchcards[1].split(\" \")]\n",
    "        content_dictionary = {}\n",
    "        content_dictionary['winning_numbers'] = winning_numbers\n",
    "        content_dictionary['card_list'] = card_list\n",
    "        result_dictionary[card_number] = content_dictionary\n",
    "\n",
    "    return result_dictionary\n",
    "\n",
    "def aoc_4a_solution(file):\n",
    "    line_dictionary = readfile(file)\n",
    "    points = [2**(len([card for card in cards_data['card_list'] if card in cards_data['winning_numbers']])-1) for cards_data in line_dictionary.values()]\n",
    "    return sum([point for point in points if point>=1])\n",
    "\n",
    "aoc_4a_solution('input.txt')"
   ]
  },
  {
   "cell_type": "code",
   "execution_count": null,
   "metadata": {},
   "outputs": [],
   "source": []
  }
 ],
 "metadata": {
  "kernelspec": {
   "display_name": "Python 3",
   "language": "python",
   "name": "python3"
  },
  "language_info": {
   "codemirror_mode": {
    "name": "ipython",
    "version": 3
   },
   "file_extension": ".py",
   "mimetype": "text/x-python",
   "name": "python",
   "nbconvert_exporter": "python",
   "pygments_lexer": "ipython3",
   "version": "3.9.13"
  }
 },
 "nbformat": 4,
 "nbformat_minor": 2
}
