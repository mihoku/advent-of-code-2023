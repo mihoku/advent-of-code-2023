{
 "cells": [
  {
   "cell_type": "code",
   "execution_count": 6,
   "metadata": {},
   "outputs": [
    {
     "data": {
      "text/plain": [
       "237"
      ]
     },
     "execution_count": 6,
     "metadata": {},
     "output_type": "execute_result"
    }
   ],
   "source": [
    "def readfile(file):\n",
    "    with open(file) as f:\n",
    "        contents = f.read()\n",
    "    \n",
    "    content_list = contents.split('\\n')[:-1]\n",
    "\n",
    "    game_dictionary = {}\n",
    "\n",
    "    for i in content_list:\n",
    "        game_id = int(i.split(\": \")[0].split()[1])\n",
    "        game_content = i.split(\": \")[1]\n",
    "        game_dictionary[game_id] = game_content\n",
    "\n",
    "    return game_dictionary\n",
    "\n",
    "def game_cube_reader(game_id, game_content, red, green, blue):\n",
    "    cube_in_bag = {'red':red, 'green':green, 'blue':blue}\n",
    "    cube_in_result = {'red':0,'green':0, 'blue':0}\n",
    "    result_list = [i for i in game_content.replace(\";\",\",\").split(\", \")]\n",
    "    for i in result_list:\n",
    "        cube_in_result[i.split()[1]] = cube_in_result[i.split()[1]]+int(i.split()[0])\n",
    "\n",
    "    for key in cube_in_bag.keys():\n",
    "        if cube_in_bag[key]<cube_in_result[key]:\n",
    "            return 0\n",
    "        else:\n",
    "            continue\n",
    "    \n",
    "    return game_id\n",
    "\n",
    "def aoc_2a_solution(file):\n",
    "    file_content_dictionary = readfile(file)\n",
    "    return sum([game_cube_reader(key, values, 12, 13, 14) for key, values in file_content_dictionary.items()])\n",
    "\n",
    "aoc_2a_solution(\"input.txt\")"
   ]
  },
  {
   "cell_type": "code",
   "execution_count": null,
   "metadata": {},
   "outputs": [],
   "source": []
  }
 ],
 "metadata": {
  "kernelspec": {
   "display_name": "Python 3",
   "language": "python",
   "name": "python3"
  },
  "language_info": {
   "codemirror_mode": {
    "name": "ipython",
    "version": 3
   },
   "file_extension": ".py",
   "mimetype": "text/x-python",
   "name": "python",
   "nbconvert_exporter": "python",
   "pygments_lexer": "ipython3",
   "version": "3.9.13"
  }
 },
 "nbformat": 4,
 "nbformat_minor": 2
}
