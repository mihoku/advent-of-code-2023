{
 "cells": [
  {
   "cell_type": "code",
   "execution_count": 8,
   "metadata": {},
   "outputs": [
    {
     "data": {
      "text/plain": [
       "157211394"
      ]
     },
     "execution_count": 8,
     "metadata": {},
     "output_type": "execute_result"
    }
   ],
   "source": [
    "def readfile(file):\n",
    "    with open(file) as f:\n",
    "        contents = f.read()[:-1].split('\\n\\n')\n",
    "    \n",
    "    mapping_dictionary = {}\n",
    "\n",
    "    seed_data = contents[0].split(\": \")\n",
    "    map_data = contents[1:]\n",
    "    mapping_dictionary[seed_data[0]] = [int(i) for i in seed_data[1].split()]\n",
    "    \n",
    "    map_content_dictionary = {}\n",
    "    for i in map_data:\n",
    "        map_content_data = i.split(\" map:\\n\")\n",
    "        map_content_list = []\n",
    "        for map in map_content_data[1].split(\"\\n\"):\n",
    "            mapping_rule = {0:'destination_range_start',1:'source_range_start',2:'range_length'}\n",
    "            mapping_content = {}\n",
    "            for j in mapping_rule.keys():\n",
    "                mapping_content[mapping_rule[j]] = int(map.split()[j])\n",
    "            map_content_list.append(mapping_content)\n",
    "        map_content_dictionary[map_content_data[0]] = map_content_list\n",
    "    \n",
    "    mapping_dictionary['mapping'] = map_content_dictionary\n",
    "\n",
    "    return mapping_dictionary\n",
    "\n",
    "def seed_mapper(identified_value, source, mapping):\n",
    "    current_map_key = [i for i in mapping.keys() if i.split('-to-')[0]==source][0]\n",
    "    active_map = mapping[current_map_key]\n",
    "\n",
    "    new_identified_value = identified_value\n",
    "\n",
    "    for map in active_map:\n",
    "        if identified_value>=map['source_range_start'] and identified_value<map['source_range_start']+map['range_length']:\n",
    "            new_identified_value = map['destination_range_start']+identified_value-map['source_range_start']\n",
    "            break\n",
    "\n",
    "    next_destination = current_map_key.split('-to-')[1]\n",
    "\n",
    "    return new_identified_value if next_destination=='location' else seed_mapper(new_identified_value, next_destination, mapping)\n",
    "\n",
    "\n",
    "def aoc_5a_solution(file):\n",
    "    seed_and_mapping = readfile(file)\n",
    "    location_list = [seed_mapper(seed,'seed',seed_and_mapping['mapping']) for seed in seed_and_mapping['seeds']]\n",
    "    return min(location_list)\n",
    "\n",
    "aoc_5a_solution('input.txt')"
   ]
  },
  {
   "cell_type": "code",
   "execution_count": 11,
   "metadata": {},
   "outputs": [],
   "source": [
    "def aoc_5b_solution(file):\n",
    "    seed_and_mapping = readfile(file)\n",
    "    seed_pair_list = [(seed_start, seed_and_mapping['seeds'][index+1]) for index, seed_start in enumerate(seed_and_mapping['seeds']) if index%2==0]\n",
    "    location_list = []\n",
    "    for seed_pair in seed_pair_list:\n",
    "        for seed in range(seed_pair[0],seed_pair[0]+seed_pair[1]):\n",
    "            location_list.append(seed_mapper(seed,'seed',seed_and_mapping['mapping']))\n",
    "    return min(location_list)\n",
    "\n",
    "aoc_5b_solution('input.txt')"
   ]
  },
  {
   "cell_type": "code",
   "execution_count": null,
   "metadata": {},
   "outputs": [],
   "source": []
  }
 ],
 "metadata": {
  "kernelspec": {
   "display_name": "Python 3",
   "language": "python",
   "name": "python3"
  },
  "language_info": {
   "codemirror_mode": {
    "name": "ipython",
    "version": 3
   },
   "file_extension": ".py",
   "mimetype": "text/x-python",
   "name": "python",
   "nbconvert_exporter": "python",
   "pygments_lexer": "ipython3",
   "version": "3.11.6"
  }
 },
 "nbformat": 4,
 "nbformat_minor": 2
}
