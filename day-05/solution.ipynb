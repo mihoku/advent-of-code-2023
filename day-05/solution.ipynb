{
 "cells": [
  {
   "cell_type": "code",
   "execution_count": 2,
   "metadata": {},
   "outputs": [
    {
     "data": {
      "text/plain": [
       "157211394"
      ]
     },
     "execution_count": 2,
     "metadata": {},
     "output_type": "execute_result"
    }
   ],
   "source": [
    "def readfile(file):\n",
    "    with open(file) as f:\n",
    "        contents = f.read()[:-1].split('\\n\\n')\n",
    "    \n",
    "    mapping_dictionary = {}\n",
    "\n",
    "    seed_data = contents[0].split(\": \")\n",
    "    map_data = contents[1:]\n",
    "    mapping_dictionary[seed_data[0]] = [int(i) for i in seed_data[1].split()]\n",
    "    \n",
    "    map_content_dictionary = {}\n",
    "    for i in map_data:\n",
    "        map_content_data = i.split(\" map:\\n\")\n",
    "        map_content_list = []\n",
    "        for map in map_content_data[1].split(\"\\n\"):\n",
    "            mapping_rule = {0:'destination_range_start',1:'source_range_start',2:'range_length'}\n",
    "            mapping_content = {}\n",
    "            for j in mapping_rule.keys():\n",
    "                mapping_content[mapping_rule[j]] = int(map.split()[j])\n",
    "            map_content_list.append(mapping_content)\n",
    "        map_content_dictionary[map_content_data[0]] = map_content_list\n",
    "    \n",
    "    mapping_dictionary['mapping'] = map_content_dictionary\n",
    "\n",
    "    return mapping_dictionary\n",
    "\n",
    "def seed_mapper(identified_value, source, mapping):\n",
    "    current_map_key = [i for i in mapping.keys() if i.split('-to-')[0]==source][0]\n",
    "    active_map = mapping[current_map_key]\n",
    "\n",
    "    new_identified_value = identified_value\n",
    "\n",
    "    for map in active_map:\n",
    "        if identified_value>=map['source_range_start'] and identified_value<map['source_range_start']+map['range_length']:\n",
    "            new_identified_value = map['destination_range_start']+identified_value-map['source_range_start']\n",
    "            break\n",
    "\n",
    "    next_destination = current_map_key.split('-to-')[1]\n",
    "\n",
    "    return new_identified_value if next_destination=='location' else seed_mapper(new_identified_value, next_destination, mapping)\n",
    "\n",
    "\n",
    "def aoc_5a_solution(file):\n",
    "    seed_and_mapping = readfile(file)\n",
    "    location_list = [seed_mapper(seed,'seed',seed_and_mapping['mapping']) for seed in seed_and_mapping['seeds']]\n",
    "    return min(location_list)\n",
    "\n",
    "aoc_5a_solution('input.txt')"
   ]
  },
  {
   "cell_type": "code",
   "execution_count": 4,
   "metadata": {},
   "outputs": [
    {
     "name": "stdout",
     "output_type": "stream",
     "text": [
      "5000000 data processed\n",
      "10000000 data processed\n",
      "15000000 data processed\n",
      "20000000 data processed\n",
      "25000000 data processed\n",
      "30000000 data processed\n",
      "35000000 data processed\n",
      "40000000 data processed\n",
      "45000000 data processed\n",
      "50000000 data processed\n"
     ]
    },
    {
     "data": {
      "text/plain": [
       "50855035"
      ]
     },
     "execution_count": 4,
     "metadata": {},
     "output_type": "execute_result"
    }
   ],
   "source": [
    "def inverse_seed_mapper(identified_value, source, mapping):\n",
    "    current_map_key = [i for i in mapping.keys() if i.split('-to-')[1]==source][0]\n",
    "    active_map = mapping[current_map_key]\n",
    "\n",
    "    new_identified_value = identified_value\n",
    "\n",
    "    for map in active_map:\n",
    "        if identified_value>=map['destination_range_start'] and identified_value<map['destination_range_start']+map['range_length']:\n",
    "            new_identified_value = map['source_range_start']+identified_value-map['destination_range_start']\n",
    "            break\n",
    "\n",
    "    next_destination = current_map_key.split('-to-')[0]\n",
    "    return new_identified_value if next_destination=='seed' else inverse_seed_mapper(new_identified_value, next_destination, mapping)\n",
    "\n",
    "def aoc_5b_solution(file):\n",
    "    seed_and_mapping = readfile(file)\n",
    "    seed_pair_list = [(seed_start, seed_and_mapping['seeds'][index+1]) for index, seed_start in enumerate(seed_and_mapping['seeds']) if index%2==0]\n",
    "    mapping = seed_and_mapping['mapping']\n",
    "    \n",
    "    location_mapping_key = [i for i in mapping if i.split('-to-')[1]=='location'][0]\n",
    "    location_mapping_ranges = mapping[location_mapping_key]\n",
    "    identified_least_location_ceiling = [location['range_length'] for location in location_mapping_ranges if location['destination_range_start']==0][0]\n",
    "    \n",
    "    least_location_seed = ''\n",
    "    for i in range(0,identified_least_location_ceiling):\n",
    "        # marker to track the progress per 5 mil.\n",
    "        if i%5000000==0 and i!=0:\n",
    "            print(f'{i} data processed')\n",
    "        seed_traced_from_least_location = inverse_seed_mapper(i,'location',mapping)\n",
    "        identified_range = [j for j in seed_pair_list if j[0]<=seed_traced_from_least_location and j[0]+j[1]>seed_traced_from_least_location]\n",
    "        if len(identified_range)!=0:\n",
    "            least_location_seed=i\n",
    "            break\n",
    "\n",
    "    return least_location_seed\n",
    "\n",
    "aoc_5b_solution('input.txt')"
   ]
  },
  {
   "cell_type": "code",
   "execution_count": null,
   "metadata": {},
   "outputs": [],
   "source": []
  }
 ],
 "metadata": {
  "kernelspec": {
   "display_name": "Python 3",
   "language": "python",
   "name": "python3"
  },
  "language_info": {
   "codemirror_mode": {
    "name": "ipython",
    "version": 3
   },
   "file_extension": ".py",
   "mimetype": "text/x-python",
   "name": "python",
   "nbconvert_exporter": "python",
   "pygments_lexer": "ipython3",
   "version": "3.11.6"
  }
 },
 "nbformat": 4,
 "nbformat_minor": 2
}
