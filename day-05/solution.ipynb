{
 "cells": [
  {
   "cell_type": "code",
   "execution_count": 6,
   "metadata": {},
   "outputs": [
    {
     "name": "stdout",
     "output_type": "stream",
     "text": [
      "seed-to-soil\n",
      "soil-to-fertilizer\n",
      "fertilizer-to-water\n",
      "water-to-light\n",
      "light-to-temperature\n",
      "temperature-to-humidity\n",
      "humidity-to-location\n"
     ]
    },
    {
     "data": {
      "text/plain": [
       "881943038"
      ]
     },
     "execution_count": 6,
     "metadata": {},
     "output_type": "execute_result"
    }
   ],
   "source": [
    "def readfile(file):\n",
    "    with open(file) as f:\n",
    "        contents = f.read()[:-1].split('\\n\\n')\n",
    "    \n",
    "    mapping_dictionary = {}\n",
    "\n",
    "    seed_data = contents[0].split(\": \")\n",
    "    map_data = contents[1:]\n",
    "    mapping_dictionary[seed_data[0]] = [int(i) for i in seed_data[1].split()]\n",
    "    \n",
    "    map_content_dictionary = {}\n",
    "    for i in map_data:\n",
    "        map_content_data = i.split(\" map:\\n\")\n",
    "        map_content_list = []\n",
    "        for map in map_content_data[1].split(\"\\n\"):\n",
    "            mapping_rule = {0:'destination_range_start',1:'source_range_start',2:'range_length'}\n",
    "            mapping_content = {}\n",
    "            for j in mapping_rule.keys():\n",
    "                mapping_content[mapping_rule[j]] = int(map.split()[j])\n",
    "            map_content_list.append(mapping_content)\n",
    "        map_content_dictionary[map_content_data[0]] = map_content_list\n",
    "    \n",
    "    mapping_dictionary['mapping'] = map_content_dictionary\n",
    "\n",
    "    return mapping_dictionary\n",
    "\n",
    "def seed_mapper(identified_value, source, mapping):\n",
    "    current_map_key = [i for i in mapping.keys() if i.split('-to-')[0]==source][0]\n",
    "    print(current_map_key)\n",
    "    active_map = mapping[current_map_key]\n",
    "\n",
    "    new_identified_value = identified_value\n",
    "\n",
    "    for map in active_map:\n",
    "        if identified_value>=map['source_range_start'] and identified_value<map['source_range_start']+map['range_length']:\n",
    "            new_identified_value = map['destination_range_start']+identified_value-map['source_range_start']\n",
    "            break\n",
    "\n",
    "    next_destination = current_map_key.split('-to-')[1]\n",
    "\n",
    "    return new_identified_value if next_destination=='location' else seed_mapper(new_identified_value, next_destination, mapping)\n",
    "\n",
    "x = readfile('input.txt')\n",
    "\n",
    "y = seed_mapper(x['seeds'][0],'seed',x['mapping'])\n",
    "y"
   ]
  },
  {
   "cell_type": "code",
   "execution_count": null,
   "metadata": {},
   "outputs": [],
   "source": []
  }
 ],
 "metadata": {
  "kernelspec": {
   "display_name": "Python 3",
   "language": "python",
   "name": "python3"
  },
  "language_info": {
   "codemirror_mode": {
    "name": "ipython",
    "version": 3
   },
   "file_extension": ".py",
   "mimetype": "text/x-python",
   "name": "python",
   "nbconvert_exporter": "python",
   "pygments_lexer": "ipython3",
   "version": "3.11.6"
  }
 },
 "nbformat": 4,
 "nbformat_minor": 2
}
