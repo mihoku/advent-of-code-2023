{
 "cells": [
  {
   "cell_type": "code",
   "execution_count": 15,
   "metadata": {},
   "outputs": [
    {
     "data": {
      "text/plain": [
       "551094"
      ]
     },
     "execution_count": 15,
     "metadata": {},
     "output_type": "execute_result"
    }
   ],
   "source": [
    "def readfile(file):\n",
    "    with open(file) as f:\n",
    "        contents = f.read()\n",
    "    \n",
    "    return contents.split('\\n')[:-1]\n",
    "\n",
    "def engine_schematic_parser(engine_schematic_list):\n",
    "    number_marker_dictionary = {}\n",
    "    for i in range(len(engine_schematic_list)):\n",
    "        number_marker_list = []\n",
    "        number_marker_start = ''\n",
    "        engine_schematic_string = engine_schematic_list[i]\n",
    "        for j in range(len(engine_schematic_string)):\n",
    "            if engine_schematic_string[j].isnumeric() and number_marker_start=='':\n",
    "                number_marker_start = j\n",
    "            elif not engine_schematic_string[j].isnumeric() and number_marker_start!='':    # Reached the end of number\n",
    "                number_marker_list.append([number_marker_start,j])\n",
    "                number_marker_start = ''\n",
    "            elif engine_schematic_string[j].isnumeric() and number_marker_start!='' and j==len(engine_schematic_string)-1:\n",
    "                number_marker_list.append([number_marker_start,j+1])\n",
    "            elif engine_schematic_string[j].isnumeric() and number_marker_start=='' and j==len(engine_schematic_string)-1:\n",
    "                number_marker_list.append([j,j+1])\n",
    "            else:\n",
    "                continue\n",
    "        number_marker_dictionary[i] = number_marker_list\n",
    "    return number_marker_dictionary\n",
    "\n",
    "def engine_schematic_processor(engine_schematic_list, number_marker_dictionary):\n",
    "    part_number_list = []\n",
    "    #print(number_marker_dictionary)\n",
    "    for row, schematic_number in number_marker_dictionary.items():\n",
    "        if row==0:  # If it is the first row\n",
    "            for number_pair in schematic_number:\n",
    "                number_pair_value = int(engine_schematic_list[row][number_pair[0]:number_pair[1]])\n",
    "                if number_pair[0]==0:   # If it is the left most character\n",
    "                    index_check = [number_pair[0],number_pair[1]+1]\n",
    "                    if (not engine_schematic_list[row][number_pair[1]]=='.') or (len([c for c in engine_schematic_list[row+1][index_check[0]:index_check[1]] if not c.isnumeric() and c!='.'])!=0):\n",
    "                        part_number_list.append(number_pair_value)\n",
    "                    else:\n",
    "                        continue\n",
    "                elif number_pair[1]==len(engine_schematic_list[row]):    # If it is the right most character\n",
    "                    index_check = [number_pair[0]-1,number_pair[1]]\n",
    "                    if (not engine_schematic_list[row][number_pair[0]-1]=='.') or (len([c for c in engine_schematic_list[row+1][index_check[0]:index_check[1]] if not c.isnumeric() and c!='.'])!=0):\n",
    "                        part_number_list.append(number_pair_value)\n",
    "                    else:\n",
    "                        continue\n",
    "                else:\n",
    "                    index_check = [number_pair[0]-1,number_pair[1]+1]\n",
    "                    if (not engine_schematic_list[row][number_pair[1]]=='.') or (not engine_schematic_list[row][number_pair[0]-1]=='.') or (len([c for c in engine_schematic_list[row+1][index_check[0]:index_check[1]] if not c.isnumeric() and c!='.'])!=0):\n",
    "                        part_number_list.append(number_pair_value)\n",
    "                    else:\n",
    "                        continue\n",
    "\n",
    "        elif row==len(engine_schematic_list)-1:  # If it is the last row\n",
    "            for number_pair in schematic_number:\n",
    "                number_pair_value = int(engine_schematic_list[row][number_pair[0]:number_pair[1]])\n",
    "                if number_pair[0]==0:   # If it is the left most character\n",
    "                    index_check = [number_pair[0],number_pair[1]+1]\n",
    "                    if (not engine_schematic_list[row][number_pair[1]]=='.') or (len([c for c in engine_schematic_list[row-1][index_check[0]:index_check[1]] if not c.isnumeric() and c!='.'])!=0):\n",
    "                        part_number_list.append(number_pair_value)\n",
    "                    else:\n",
    "                        continue\n",
    "                elif number_pair[1]==len(engine_schematic_list[row]):    # If it is the right most character\n",
    "                    index_check = [number_pair[0]-1,number_pair[1]]\n",
    "                    if (not engine_schematic_list[row][number_pair[0]-1]=='.') or (len([c for c in engine_schematic_list[row-1][index_check[0]:index_check[1]] if not c.isnumeric() and c!='.'])!=0):\n",
    "                        part_number_list.append(number_pair_value)\n",
    "                    else:\n",
    "                        continue\n",
    "                else:\n",
    "                    index_check = [number_pair[0]-1,number_pair[1]+1]\n",
    "                    if (not engine_schematic_list[row][number_pair[1]]=='.') or (not engine_schematic_list[row][number_pair[0]-1]=='.') or (len([c for c in engine_schematic_list[row-1][index_check[0]:index_check[1]] if not c.isnumeric() and c!='.'])!=0):\n",
    "                        part_number_list.append(number_pair_value)\n",
    "                    else:\n",
    "                        continue\n",
    "\n",
    "        else:\n",
    "            for number_pair in schematic_number:\n",
    "                number_pair_value = int(engine_schematic_list[row][number_pair[0]:number_pair[1]])\n",
    "                if number_pair[0]==0:   # If it is the left most character\n",
    "                    index_check = [number_pair[0],number_pair[1]+1]\n",
    "                    if (not engine_schematic_list[row][number_pair[1]]=='.') or (len([c for c in engine_schematic_list[row+1][index_check[0]:index_check[1]] if not c.isnumeric() and c!='.'])!=0) or (len([c for c in engine_schematic_list[row-1][index_check[0]:index_check[1]] if not c.isnumeric() and c!='.'])!=0):\n",
    "                        part_number_list.append(number_pair_value)\n",
    "                    else:\n",
    "                        continue\n",
    "                elif number_pair[1]==len(engine_schematic_list[row]):    # If it is the right most character\n",
    "                    index_check = [number_pair[0]-1,number_pair[1]]\n",
    "                    if (not engine_schematic_list[row][number_pair[0]-1]=='.') or (len([c for c in engine_schematic_list[row+1][index_check[0]:index_check[1]] if not c.isnumeric() and c!='.'])!=0) or (len([c for c in engine_schematic_list[row-1][index_check[0]:index_check[1]] if not c.isnumeric() and c!='.'])!=0):\n",
    "                        part_number_list.append(number_pair_value)\n",
    "                    else:\n",
    "                        continue\n",
    "                else:\n",
    "                    index_check = [number_pair[0]-1,number_pair[1]+1]\n",
    "                    if (not engine_schematic_list[row][number_pair[1]]=='.') or (not engine_schematic_list[row][number_pair[0]-1]=='.') or (len([c for c in engine_schematic_list[row+1][index_check[0]:index_check[1]] if not c.isnumeric() and c!='.'])!=0) or (len([c for c in engine_schematic_list[row-1][index_check[0]:index_check[1]] if not c.isnumeric() and c!='.'])!=0):\n",
    "                        part_number_list.append(number_pair_value)\n",
    "                    else:\n",
    "                        continue\n",
    "\n",
    "    return sum(part_number_list)\n",
    "\n",
    "def aoc_3a_solution(file):\n",
    "    engine_schematic_list = readfile(file)\n",
    "    number_marker_dictionary = engine_schematic_parser(engine_schematic_list)\n",
    "    return engine_schematic_processor(engine_schematic_list, number_marker_dictionary)\n",
    "\n",
    "aoc_3a_solution(\"input.txt\")"
   ]
  },
  {
   "cell_type": "code",
   "execution_count": 7,
   "metadata": {},
   "outputs": [
    {
     "data": {
      "text/plain": [
       "'a3'"
      ]
     },
     "execution_count": 7,
     "metadata": {},
     "output_type": "execute_result"
    }
   ],
   "source": []
  },
  {
   "cell_type": "code",
   "execution_count": null,
   "metadata": {},
   "outputs": [],
   "source": []
  }
 ],
 "metadata": {
  "kernelspec": {
   "display_name": "Python 3",
   "language": "python",
   "name": "python3"
  },
  "language_info": {
   "codemirror_mode": {
    "name": "ipython",
    "version": 3
   },
   "file_extension": ".py",
   "mimetype": "text/x-python",
   "name": "python",
   "nbconvert_exporter": "python",
   "pygments_lexer": "ipython3",
   "version": "3.9.13"
  }
 },
 "nbformat": 4,
 "nbformat_minor": 2
}
