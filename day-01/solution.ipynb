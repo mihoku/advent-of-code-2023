{
 "cells": [
  {
   "cell_type": "code",
   "execution_count": 5,
   "metadata": {},
   "outputs": [
    {
     "data": {
      "text/plain": [
       "54708"
      ]
     },
     "execution_count": 5,
     "metadata": {},
     "output_type": "execute_result"
    }
   ],
   "source": [
    "def readfile(file):\n",
    "    with open(file) as f:\n",
    "        contents = f.read()\n",
    "    \n",
    "    return contents.split('\\n')[:-1]\n",
    "\n",
    "def text_scanner(line):\n",
    "    number_list = [i for i in line if i.isnumeric()]\n",
    "    return int(number_list[0]+number_list[-1])\n",
    "\n",
    "def aoc_1a_solution(file):\n",
    "    calibration_reading_list = readfile(file)\n",
    "    return sum([text_scanner(i) for i in calibration_reading_list])\n",
    "\n",
    "aoc_1a_solution(\"input.txt\")"
   ]
  },
  {
   "cell_type": "code",
   "execution_count": 19,
   "metadata": {},
   "outputs": [
    {
     "name": "stdout",
     "output_type": "stream",
     "text": [
      "['dq49542jmlqcgv', '7ggzdnjxnd5', '25439', 'dt2nezbgmc757', '5vsrc9', '95zzbjck', 'gk1ight45kvktlt9', '5rckdmgbfthjdqpmpgdkmcklqtqc365mq2', '447hvstcbgkhm54811', 'dprrtrngrfccz48428sthm5', '6254779', '417bfbnqvkb467', '12xpdghp8qvztrsslg65smlgfjhcpst', '8dhzdtb843', 'pttdtmhg4', '687dbtbxnqzxds6', '235nxglqlc9', '96lqhnvbpx178sxjfkz4vr', '328jxdmlqfmc6198wol', '26jtdpgqjzshncxvllj4', 'qxvpsctgx1', '28286qdjjlgtdtnsm3hk', '9hcj69', '979sqtrp4', '11846zltzrk3', '3vlgfxhnf676968', '61sxxbxvfnkt8', '85547sxsrvdrz', '117', 'ndtkjb6639gdsjlljtj66', 'cfmrfgjqgrzcm65', '3346233vrmnmgx', 'kckdgh721758', 'mdbqqjmpv1216314ntbfb', 'lkjhjd33', 'qth761mpfnnhm65cnhz2', '2jrfgzjstjvlngnpqcj8grtnvxmzbxkfrvqmvnmvmbdr', 'sl1ightkqbgcpnv8kqcmz417mrfj8', 'xdxdxg9728xcq1', 'dpdgxzk7', '186321', '12735', '46tkbclbkl864', 'tjprpjbshr271pgfqmbmjlvsv', '3mbjccssjgtdttvbdhdfxvldpmhcpc', 'lgfrkpsfvz5ppgqph2znjtgxdjpm3', 'mjml7ggsbjbt6991', 'jqfqjqh3978klkttdkbtmpp1', 'trptrkb15286', '1tmvsrjlbql968', 'r19ktvdqkdgl1', '2656grfdft54klf4', 'thrm13865', '341', 'ppthg2311', '7vt426', '22486', '4xbhm1567889', 'vhmsd171rgkhpgfhffnhkvt', 'xgbzxszsgt34', 'rclzfsn528', '989927', '8855n68', 'dfxzz5qcqzsjsg', 'd3854', '5knflhntz372', '314919bsfpq', 'hjhgtjg2trsf58hfntm', '6pmhzqrlkr341pcgvz96', '5331xqcsshkkqtfblffcmcnt4', 'zghcfvjsfz299', '3vvvrlrjdztlhqqm88', '3993793', '1fqsgnjzrl6lrzsczc', '3pldztlnvnzdntqllpr19', '9kgqqrgttfntrhjzlv9lr3', '94888', '213txmtlqxskhltkrvbjrzm975', 'dbmjvszjtb17', '2gpfttmhp8213', '44bqzqscdbctssgxfzjjn2nfcktjrtnxskjpkhvlfjt', 'ctxxvdsvsvjzchmxvxc83mbnlg59vmcbgsvbh', 'fpbrp4qmrfcnpvxg81hkbbgbsnnt', '4zrrg74', '68948xlgdn', '693rzcnvlfrv', 'bcftntcfl4jxbccpcmj8crxsjscmxd8mhqbnpdvc4', '683', 'xl4', 'njslckcbdfvkmkdk98', '99849', 'jkzvq34zzvdzdft', 'bfqpb9', '86nlzdskj4bmdvcrcgrshbjcx42', '7zhlxtqtbjxqbszd298jcl9', 'fvcjzxd575fqnvkj37', '3cxmpzkng3', '8x2', '9874pfzzflnp97', '2lkjpfhnpn7gbtztgxtnmclzdtdh338stbfrvxqz', 'nv8', '3178', '92r2858ls', 'shncxrjqnjttvvzvnl6', '93963', 'mjcfrzjhr33csjxrtmm', '517', '84bdfnptmf4fbqslsq8', '1grzpdj83216fsk', '833gxpcqvpm8k', '6fbsfclh9tqj52bxcz', '1196njmxmvv', '825bhc814jjdbvrzt2', 'xjchvkxxhg37673kmgqfmbgmbjnrq', 'l2', '36hcmfnbm75txhhgjdlq1khkk', '8j4754sq2', '6989', 'g2drvxqvpnbjfqxhl', 'vglk49rlmhs9', '15zr6rrtddnrg', '33llcbhjhjzq55', 'ggbmhzkc12', '23nclcqvjdzqcrpvsmnpzsfg35', '258ddxqgpm827', 'nrvtvlhrlr3tvpck1ghbvzxhjkn8gzxgtcddk', '7lsxfjhqz', '284', 'm923', '14fxqjpggbpb93lj', '73pzkfbqdstdgkrskqrlbg7fz44n', 'btctmct9363gkqqkcskfs8chvmcl', '34skdp62b', '7365683', '5spkb6', '34msnt', '5bkqbzpgmjz8', '7g2142944', '9fg6zkbscvbxds56spjfhzxbzvgbvr31ightn', 'rpbd25549', '2775', '8777ll95', 'rpjcmzkthbvdflbhxxkpv31plglgmv', 'xqk2ne5jkpxvnptj8', '671', 'cgxfhzsnrsjp3kjgzrlbhzh', '5qqjljzfcmbfqvkscpzscp7491xvjlgk', 'tflkxnml5vptclnhkgdg11c27', '68tdbczshg823pmjnxrvc96', '9181mkltdkfgxt75', '8zgx', 'cvb4kv22gp', '61bjllhkblllqx8bmr536', '9cjfgb1bxncrgfhtmg973', '894526bsvnsndhtghtm5', '71bbfrvdcs32', 'cfzd8hvqscjxqf9', '6vfkcgmvqn9vmbzccdmqqgxmfxmnqc95', 'qqrqnd8257czxtjnmxx', '3bdmrlnxnlmdbzbv4', 'nm91vblg4tsjp6', '696', '7rjvbxptl91crlz', 'dvdbrmchgp9941djcf192', 'hcrrgnlxf264', '3hcrfknsnqmg49', '2tqbrkxgtdztjkdcn663', 'mktnzjn58qspzpqdr7', 'dphvck54bmfnskkh72578', '1777', 'bmpnljsxhfm2zrhvdv8sjsrmnzlcjvjqcfgffhkjcbx', '716874', '39tfx4', '89pqhs8ndgbv6', '39jgmbzrzkct6', '1676', '8xtpdhzfd8344482', '6kvlppxqktkdqjsgjgz5', '21hbgsdhpxkdvnpr3ncrgbqzfvsbcd64', '39kpdxsp36872', 'xfljqfbz5tzpldspxvgc', '4qb62cfljflzqqd', '5889cxvxkstlld75rnlgzpgmhcmnx', '84zxqsqvb', '5ksvtbqz9934', '14964784kbkhdhg', 'h6132v', '99jlbrfmgjv2kk5', 'bjhktrjmf9xxnjhrvq7', 'fbcxlvgkkjcmpdcz7', 'mnl831qqttlp', '82lf41', '1tqfgh4bmf5', '41q54', '9fvp', 'cxxn5qzcm', '17hzjpnvhtdq', 'pxmht4fprcf257g6cqbmrd', '3956rdqrhcqrqbl', '6fggvr', '96mxvdcqgxcmskl115lskkp', '7qkmqxlt5191lfbtfvz67', '9mjnjgrlmnl7589', 'fhjjtxzks7743', 'rfjksv426vqbdrbxc', '6zgk58mhgxbsm', '1njpjv696', '4lrth7dnsm7', 'l4hxvjvlfpjmdbvdjzrhkhpmkl9744', '2qtkh981', '5xhrxrzxht146', '6lzcgllrqlhghzn1hdhgltcnt5451', 'dpkzdbzsgq93cst7znsjgdmmhx1', '3497lp388', 'llnklrkfr3', 'ltkkv481pzhqzkmhskxlz99kcbrphlp', '527719ljsbc49', 'bvqsxnkpmz7hdpvfvlb282bdxp3', '1464', '8xfdtfnqvhzkhvsz85', '3342', 'z522fp', '4vjmcghrc483', 'lhz29dzhpdgn675', 'j942496skv', '9phbnns1qtpvvzbx5xzc', 'mtjfxzzhzdjvfmrc1', '4ccszl35755lfmktz', '52739mgrnjcsbpd', '6811554c', '263fjlkg9pthm1', '22ddxpbbpd7', 'zg7', '53gvb36hj7', 'x66589', '788753929', '1vlpdgsnl3', '7mbvqmjhfnzmgsqp8qnskjzptpppbcfhck2', '7bpldrqr64psntqbcqh5', '2thvddvmlbqknrj9pgpsjndbrmrgkgf', '6338148mvdtnn', 'vkqcnfkkc6', '689', '6541mklfgqbpgnvlvcvhjcdkq', '355', '981gxpsgqxjk2g9zgnf', 'cfnnzfnlmfq2484xg5', '45mpgbgzc2qlsxmgs8', '5nhzlcb646pzjjlr49j', 'gnk1ightprhlr77', '1rzsq1738', '699888', 'lcszz858', 'pdgbgjx33331ngk', '8zpzpttrq29k895', '634jgvbvr', '98mvr', '572psmtnmzd56', '569rqrlzqvszrght6zkgtvrphpnv3', '551', '433', '9mdtghvfjdqqbrm8492tlstxvrh3', 'b8', '9hpnmdhjqjl5ppptrd', '41498vxxjd38', 'n2nefnsdp987bjzxp5', '61clxflmxv21', '9jbpfnvfsjblmxrprml5', '6857sfgxjqxrcjm9rzgxnhjpzkdhxzbg', '1vztdln12lhrhx', '6lrmdrxqlst2vsr98pbmqcxn', '2zjchhdbzhc', 'tsgn2mdtsjtdr39', '733dprbrvngxp4', '5stvv36', '619sjlzjtxxnkbckdmc', 'zxqzmcz38', 'lndh86xphvb9', '5636f93hbbp2', '3cxpbl', 'gsnq88kthxzrdkskjkmcmsk95', '672xdq94', '55htczfmrhvl77nbjkvhz84', 'cmbgm38pbmgjhsp2', '5pdhtcpvg39nlhpgdln96fblsmlz', 'kcnsfsfhjbcffctznvp1', 'qzrkvhcds4gklftv', 'xslgkktct7snbxnplbk35', 'zspb179761', '2nxtngxlrftltqggpftj381gsrkbbclll', '474jxtncx', 'bxsqsb8', 'svsvvtzddklkrxmpd2', 'xbvjfmc92znbqn582smvkgpclvs6', 'tnlp5m7', '7782d5166', 'fspcrlc3j174', '7983hz4', '953', '45ggb7', '5hsv', '1ppkkkhfzn', 'pkfzkpv9mtktjvrssdftsl1bpmhf', '8fhfqmz7', '689htmnpmq6zvxl', '9mbkcbnmptpkhqvvzxftss7', '485', '8811847qsjb', 'cpghtgncpkkxtrvrsgl818cfzsjfq6', '9csthl81fgpmc', '33hnr15dzcfdtpf2hdlnrxnmnhjqqqn', '59654', 'lnzh29446154', '82427bvcdkckdgz8', '66357', '62fcpzhbn65km34', 'httmgldjfqnnhktmnhj4dsmffzknbq674', '9nxrtsmqbcrgghqtx6kdnrfjq', 'thhmbpjldslpthkfxc51zrjqtpvjs8', 'cjtbcn759nlpgs118', '768x176ffrvml8', '89jntmr47mzjb', 'mxk51gt', '32147dbvm', 'zqtdz19mmhkj58', '98xlpkzb', '342542cvtcjfdh', 'jvndgrtj136', '9551lfqjqmptxv3', 'kkxfqqkf49', '3673dzpvnvt51rnzljdprb', 'hpzpdrnk3kct1mqdvljhrls3', '66sjsljgvgzhrzqpsznh35jpxsvqccrc', 'cpvlr7', 'tdg3825xxrvct', '626mt994', '974zfzl43qssqrkktpnzjv', '8mfztz3ldnjgsf7', '356', '6vrl3r9s16', '6s8657vnkgbmxj22', '88pglsknpxm6jgqcftmvprjlcdsfks', '3dlkbc1', '5581', '7749', 'gg18gcfnfkgbml4dls23', '76jdpxxkf1', 'l5715', '295j268', 't2ne336zbqz7', 'zmbqqcd8ztp46567', '9811', 'zhg63jffqhzdfvfxjpfmjqqkm361', '5vgftjvqkxj6pnctdcrk2neq', '9ptmkf86', 'lbjxvn5rjppbtrhf6xbdnsltlnrqsgmx8q', '365pxj63gshpg', 'vlq5zhgj4', '98hc13nnrzfzschg64', '22pq76kpmjdjflkqzxlvjhr', 'rnvmblqhq1', '8j273qfpfkz', 'd7vvdmxhhcd1dkz', 'lkqhrxkmp96fppvsd2mbk4', '317dzpbhsrdf5', '159ckggpfzlgntfrddv58398wodnp', '87371', 'mrzpk8', 'fmvxth288hjmfkdxjh', '331', '9566nzlqhsc', 'xtxbgtn26485', '38hz42qmlhrz7kcqhgrghrd', '12ldchpqzm', 'zcfjz56mqqmfsv966', '6lzcdtd3qlcjqzrtth9', '1169', '11xqblttcrdvgb7mdqkphrbdx', 'xbcc4mtgf5', '74m31hgpnmvcvgshzvcsjdbqqgmt', 'v5xmghdgbkv9', '29mkpfz7', 'jp24lqlrh2157jhcngr', '4626sthjqpgh2', 'pctrvkmc8242958', '1283', '7jbq8lbbnpsvvdfrqccb', 'p8wo6746dmchsd1', '53dhphzvhnknt6595', '865gpnhl', 'tpcspvvncglcsqjzlqr5jgfl8zspdltrd7', 'mhpskcvhn3bkjlmqd', '124lxmsnddzfbxcdcscjxxrzsvvzg3nvtrpncvpmc', 'fprqq1bpqxvjmblc17', '4799ksjcktcbtzsmrfr', '39ccrnhtgg2knczqn91qsgm', '4xnkljmg7lmfvrhxm96', '545888xcgr9', 'klrzfbrpkmtptdscktmcsqg5x16', 'vtmh1glhzlkmrlg4psbhtbrvdz571', '985333pgnc', '4735fq57', '5663gdsrhkhdlk36', 'v9xqhpzk5bnjslbzh548', 'jssdslcxxv3sdhbq95682', 'vr1', '8s1qrrq46zngsths93', 'l2ltrplmlkzz5sssjmzgcj65jhms', '491', '275thlgxmxssnvlsfst4', '8slfnfsfk', '4szbtpvvlvppsqbspr3xgrlp3zt4', '788rh1ctrmxrjvnn3txmfbvxtlt9', '25689', 'zqxpxlzjm3hmzjzg18172', '9xbmqqtkstflg61m2tdfsfjnxdmmzlrcnpm', 'pgcxbqvvj6', 'xf6893', '741', '635', 'tr9chvmlhhv6', 'jxc26452', '11zvz', '1qkhstmkhb1149zs37', '3mxf3slhhs', '6gdnljsfkfnffp67789nvgc', 'sxptjdmqfv187fpxpdnrtnqkdxhnzdm', 'grdgt99dxnqhrts', '87xcsl1', '5825', 'bgr1ight2pgzdpnzgchkq1', '52zc62468', '661', 'cbxz181', 'hn2nebmslklfkfgpngvf45', '12629mdjsrdk', 'r1ightqnj72', 'rmnpjzflcmqdrd73', 'l2llzgvr158jvv7', 'kkc54589', 'cqnnhjxp4dtt', 'j8wo1fgtlfp629pptcpmjj61', '832', '98khlprvq77', '9g8bfvnvvnpslspcmscvqcqb6', 'jgksh2lkss61xznvfhq', 'flqhlpkzjvq3qvvgvjscr6v98', 'hrg8wo8', '3fvpkbrhqchlbsxhlqf138mhtxbr9rbkrsnxbjg', '87189q5f2', '6jn1rgcjfvkh5', '147fxgvgm111g', '5xktmbkqftrlvztctxnqprp9', '84tfvsbtmh2l', 'rbjdrmbcrs9chvcj7s', '812bdzqtvnq827rpt', 'fq713116rgrnd', 'cdt96', 'dbfrd4rczmbgnmfrltdlpb77lqh5', '4dxxkqjfpjxbcthzhbl678zks19', '245ntghsdcsdrjpbrtrt3bzgbtfnk9', 'tvmnjgc698zrc395', '5kcbfkj6139tsqpvzdd', 'qsm731426', '262', 'jzsmxs9plp6pqxf5', '6374flbct', 'mpplmsrjvz9', '8ttgt9977gnprjnvxpjz', '8gmpgvbfjcdsnkcth9bbnqsqhqqz842', 'nk5b', '4986835', '415rqgdf6', 'mqrkmbvtm668', '645321', '95874gsshznxbkb5', '739dg3', 'jckgvtvrs363trrzfrxfnm8', '985xxdqpmv74fbthtqq4vttxnck', '591446tccfkrsrpqnxhtm', '2bdsqhnscrkbzt19', 'llmccgn8', '6811n57', 'm8wo1cjqsm36lrr', '98842', '2fnsvbsxkxrzghhrz29', 'tzfj3bkkljh9216zgpgsgxq', '4nkcgf8572', '642', '4119jbstfcdgjkjtppskglj1', '44982tnphxv4', '6jhcnxkksx37141', 'rb34pqtnn5271', '337nlnhrkkbsh1fnrqq72', '374lmqzfdjrq', 'tmttpfb4mghtcp9', 'nhlqlcxff8', '515gxg', '5crjmsgljxb1mqmf48mgtdxsj6', '1jdkvzfmbq', 'ndzqgk6', '3g72422ssldnm3', '5rsltvd2rrglclfpctml3', '964mcqbhbvlmzgnfqtbcs', '5892', '9543kbnmrdmxjg2', '73vprclhthzz8', '9ttjnnkr69kvxjknzkmsxtvdn', 'bgzfv59fhsvcjvlgmhhzph58', '315cgjstcmp57', '9146', 'sjqjvd4391', '9ccdjq5456mrnkjqf', '7lzdrzjh836', '43', '9b86qqsxrpn', 'fgkj1586gggndbjxv3', '137lfjqmbmssgbzs8pzjptxgvq', '775qpjpfdqt8tpfh', '23332nezrr', '8p4cxnjvbjlh9966', '9495', '6727ck2pjcmcxr', '9413jbrdmtkzn', '9njhstmmmj34', '4lnqjq23zxfznvp', '65srxnt2chrkdrr7', '431', 'tf8wo92695', '17364nnpkhhx9', 'mdl8kfpv3', 'fxcxgmq5339hdc8', '19851rnhbcxj93', '933fcpgxk6', '93469461', 'hzkpbmdzdmsfkrbxvs6pnmq7lnr', 'kzsgm65', 'kdjdvvdl2', '8lcpfkhdl2', 'xjzfbgrmvxprqpflpbk9cnpxdkgmvvjz8vbrjhxvthfsjkk', '157', 'tjqmxncdbmsjz91zlr', '648bhzlqnlvrshdgz15', '826tdzznchf1724', '7zcmpbfbzdvjlztpx62', '5961', '9719253', '71mcxnqqzvpp5', '8qn187', 'hcrr37lkvhfbj96299', '284', 'hpkttfdpgb16', '191721rl', '34772', '843mpfbxbssrrkscnc48', '555qrppcplpg2rxgbgdjdhl23', 'v9627', '29972tkcbk', '15jhczrlqmhr', 'qnhr4xlckprn9x3bzrdbfrdql9', 'lgtdv99kmgjjkz5', 'lrclbljqqp9rrjptvp42', '5ltkcgdvgk877', '2ngd75534eigh2nn', '8svdmkflj', 'rlbf47nc4jxsskjgk2dsxgtlk3', '74945zjfsjghbc9fk', 'drghcj3vstpdfth6sgqtx', 'zkf3fptvnvb95', 'gjcqspnkztlqdnzl6', '69qzgvhcnhjxbmtkcfm81555', '3772qrcvpvvrdljf13', 'v44nlcdx88', '873bmfz8zccxqk6ftlsmfp', '7373', '78gvxcdxzplr3lqgbhvpqf545', '8c1ckchx5p5', 'xhbbmsvjn134', 'lnktfknbq547', '8prvncdq97hjjltzr8', '2dfktgjgdrv4', '9161', '873lsmllvsvp', '61dcjgpjvqxj', 'x265722', 'p4', '3scgqlmkt431', 'plffdq4pcq4891', '357qz1z26', '6ztllq6gtfgcr', '491ighthch', '5797vpnfkjp8jsvtqxgrx35', '8nsbjtjrhnv36', '487', '5rksnms6fgcnrttgl2749l', '3gknvvffflfgdg', '8ts98n321', '4vmv34mt2', '7skfmmmsj195', '74fmnxskg25164', '78zjdnj334pj33', '2814433', 'bff8wo32sxljzljbllrtttz7xf125', '58574', '4fkxqm', '7947', '683756pxjlschvhm', '597spbqddhrqcbzrvhkrt88', 'cnpbkmb488', '4128lgcjfvms', 'hktvct96mzccv349', '1dr66mg51', '574', 'bsrrldft858621ightm', 'mmsvhxsm687', 'lnjcnn459rlsqkcn3', 'fgzjrlmfjk24957823', '12859gndtnzndf411', 'kstskp419p1jlcqdvgkkd5', '472', 'mzcbhhxgk4434', 'qvhnpbmvdbgxbnhcg3sq7dvmdnhl9', '1jhmkdmmmjg', '6xzpvzvqbr98gg1771', '619qvfft', '6815226sdbl', '7jlpmzv7', 'jntrfc5', 'ztspfjhk4', '94nlslrmlr3', '2kqsxx5', '39shlmj751llrtr', '7hcxxjkbsvknbm2t9srpsszktzjln2', 'fv1681', '12486jkgmtvxptnxltqtptncf6', '8zvmm1389dglsqq5', 'jvqs47dl', '55163178', '5jtcbrmtbjmrb47smmrctntvz75', '9lrn54', '2xfltgdg56', '1438384stlp', '2rpxk956slsc895', '715', '16697khlnhqtzp2vzrmbr', '2556', '243', '8658bmrr17k3', '4flbntjt5pzkjplzxn7', 'ljnpmnskj63hpqdkccffg46fszddbz', '9gfsqhm1lgvxpkmnhldm37', '5vthvsrcbxbcrgq9', '6692v', 'htnvsfmz7dtv36744rmsdfhkd', 'pb24', 'sbmmdnfvml45nvcnb3jrctctmrhm', '24152hkjvd4', '1bhpbmxhtr48wolkd', '5qrqbxtgppvvcms', 'mgcgxpmj4dl3zfckcskbqnsknlc2nxsddvhl', '6zfv661262xdx', '676jmzcdbcjnfrlrgqzfkmdxz', '1qhgcqjmjq4', '36qvlkksf98', '56614s83', '319kplvzq283gcmtrzzl6', '5lxcjrvb3dnttcxfn57', '38575jlhh42', 'xcppxkxqffc66', '4171xrdtbvd6', 'vfqzhvzclbpj2', '578xlh525dvlbtvzvs', '7bjlrvnncgs776', '3qsnhs', '2545', 'gjgzjs1s', 'vxhlxvgj39', '31lvnrfrbzj69', '1ftpcjskxzhv21122mshxlh', '936', '92jfqbjkbtrf74nkszvtjnffeigh2xdd', '81851rzr4', '7g2kzcxvvg4', 'qxkmfdzn59884prm63', '127436', '2746qqq62j', '6444stxrskpxc187', '24rzngcnlm112218', 'nnqfm1rrpx859', 'klzrfbxjnznzkt24pjngplcdlftjz', '66gbsllhhgxn38', '3lzzrxspvq84', 'qtvtpqspqfl1tfrzvk318gsjqzgnv', '9vhlxrqtdmzrpfqh74zsgnmsdlqgcp2', 'qkkkhxbrk358jpnmb7611', '4vp44492', '56nrmvcfzlt665', 'skkqlzl1mrkgncmq968xvhfcsc', '217kbjcdsstlxst6', '4832nglgrv', '695', 'pgcmqzcf9pbgcrbz75zplhhbrjbpxj', '76642np9bt', '879511', 'glvndtgdfkzzcbsmt3674385', 'dtvgrkkzvhflhcsknhsccmxzg5tcpz4zrcl91', 'jpg319qzj78phltdpjrsr8', '681', 'gctzfjk7szfblx1276pd', '93942', '219497crzhqndbqpmpvj', '364mrntvlzntmqgcmms', '1gmpdqpfkkz', 'xmsv38mdnqkdtzn814', '395zqfqrgzs', '9881cpnvrkkl', '7rddzbqfm541kxkhlgf1', 'fkclxddmxrpqzhq8697', '2mtvxtgq56', '319qvnpnmhzj6', 'rvvf3694rq', 'r2855gvgpfs', 'dtz25512', '36zfqhnjzvr2271ightqp', 'sgl8wo2974c24', 'pplpgxnvzfpv4xl5114', '581', '61429', '8gxcgbrzd858', 'jxdzbxcc116p565g', '2542cvjxvmhh3xkl', '38nhzz4', '771714px23', 'mpdcbdjkp893', '43g9p9', '164tckbkjdkqbfjkgpk54', 'qxh12clvzvsvgk2dvpkncltdt', '54hjckmndtdp98jzgqvrhbhx8tdxkjltrdq', '296dvxdxhdb4qbnmkzxh', 'djsrgct28vjkvsttnlf4', '7rhdkfvqbx9gnkbgcqv1442', '78dcb77pdvqlmkv5', '39lr83hhhr5xbhr', 'zx3268', '7hsxxzjjdh4rc5537', '51727423', '91qc37255', '52hnfkvsxmhj556', '3695936mncxxxhkgxzlxscdzplm', '8936264', '26hfc441', 'jrnxgrvrctbg39', '473dq5827knq', '94985vnvlnf', '2pg7996kkpfgmpdlqhfc5', '5112ggh14', 'bvdn87fcjnhccrlb79', 'lpf1ightfrnsrpgkz6v8', '177981', '53kvftth534c', 'zcmkkshv881', '96crfzhfxzzrrdtkscp', '8fhslkqzsc5jlp39mjftx', 'rs4fkglt1hfvhg84vbms9', '6955', '2jqdfddkzzqxnkv82', '77mxhpqvmng5cnhvg18', '3sxr99316nmnssk', 'kzvvsvbjr4664', 'ckvmxptpxrvpsfvt99', '669zgxttq199xggjrtzgg7', '228hsr95pmptccfkfcpcmkn', '7tqsqhbftscf1kdhrctnlcfdgzhvshsjgsbq7', '91mdpxvlxkdx', 'pm482', '81ggljdxs395', '259393', '61526p', '3mz22557', '3129fsxmpsjx68', '72d81533', 'hxmthvjphjdgctfpt4dfhx7', '428zx8', '9dzbjqnnmb77', 'crdtprqs4551dmzvkzmmm', 'jqcxsxblgml1', '9sbqzndbsx3277', '883zvvqbr634', 'ztzlrsg4qghxkvspvc62jndhxzfrm', '62vjkjgp243lg', '1psnbrkbhb87', 'xfxqjrggpmtf45979', '6pdv1xpsgr', 'zb4rqrqx7vklzmslqls', '4lst17', '53j1889f', '1315', '1qj4', 'dj8wocxrnf54148bqj', 'jrgxvsmnzg5', '2nsjbzvtqhg5jdhxstbzrbtpndnjlvb7hhxfmrxtfxrcmjs', '67xbc2', '7nbsrhcvrqj', 'fqnl946tdgbcncr8539', 'gmg4mr3rvdt', '19qhmhvpz4', 'pkptr6lssnqxncztpbt8', 'sjqtxbxp52711rrsqghcfpncgk4', '748spgz483dqp', '29bxlqs', 'd8wo938', '3plpprmmhvvsnvdzjzr9sqgbddpgh3jjmldhdqqm', '7574bkvxkzqbtxjvdsltfkn', '7ssfkdmvmntpxjpqlj8px', '4hk9', '5nxcmhf78pmdd6mmqfvdxqbh7', '59hv57', '84rpfln4261', '392', 'ncdpjqc9121hglvzpzf', 'jmtpbhbshrvmhvqt38brsqpxn416', '16vmmh74826', 't2659b383', 'cmkdmhkdf3zdhjfmb', '355qrrxrdt62gntmvxsggq5', '1858538tw1gv', 'cqlfhlch924mpmqfv2', 'jrnzg54352kxphktf', '78mzmzftx9gsmxjkj1stjbvxlvmlcdg9', '298936blhm', '3kskp1tfgjgzphqtr', 'n22', '561vksjzrlgjnx2vbkrdlhjsmzdxcf', '26kfmcfndlj4532', '652tzbzq2', '5npcq452nej', '9941ztvqspscnk42klbht', 'bqcbm19hckcgtcfkb4482', '52jcrbqbkhjx598', '533', '32trnnlstrnd39', '15zsnrfshn728smvsfztx', '789ckpxflvkr', 'skxlnpxxdgbhq99jsltrx83', '161724', '274', '7knspxrzszdbgc37', 'vsqmpf56698dtgmpxrksb', '36b2115d', 'bckqdnd97bpzvkxkdq27txpzqg2', '16ntmlmfkfmj4mgddpzfr5scjhhmg6', '412mlhdscsx517l1', '9rdlctlkc', '11vjvjsll5nv', '24645', '5czmqmdkk33', '759', '75mqjhqh9mvdkgtr', 'glvpdbbhxs9', '423', '66gtdbttnhvkvh', '5fcsbnp68123', '5psvzn3355qrkftfkq6', '36lmm', '73314nlr2', '137', '1jdxgxjpc617pzbz3', '7qcjsxz62kkpzllzq92', '1367mtsldgrd8p', '5111hbp9tlqp', '3bb97162tw1g', 'mxmpnxmpqp18ktxvgkcdr7', '4114dhrdvrz', 'zxkmcr58kzq667', '6972zl82nvgvth', 'vnmmbzfpt2fnjd76', '2pn3qzlvkptmph9vnkbxghn166', '915934', 'mdrdpbsfcj6pnx4242', 'sgjrdtmzcj2mbnlbtqsdb18', '9jbmhchfrnfqvxcj2krbjvzmcxrj', '4jhjksqvnq7nfrtslcgjbrh4', '68lzrrxfbcj8561kzhtpbz', 'jqsmqbzpntxdfvd3zrqzdh3fmvslxk6', '882282zqghmbd', 'q2ne4d', '6316', '98dmtkznh6', 'znc1185', '88665bxbngx5dvht2', '97833', 'mqdnhqfdgzfshjttv43hq92qtpdblnvdsxcskz', '245dfffknb6ljxjlsq48', '6pbdfrqp4', 'vmtkqpjftc92nej', 'rhcstmvxdnjgldpmlms9glmknt583lgnlqmjkzl', 'rxzbjxjhkvhtxps22hlcdgkrbdbmxvpf45', '1392', 'bp234jszvspdq', 'rcmhnmb3lpxn85tn7', 'srdh4614crhhkbxftghxqrptn', 'rlhlrm894', 'jtmmljgmmppknktqrbj2d9', '75kvnbm', 'psbcdp16218', 'ndx5z32kjjvzkjk', '1rhnmsxm7722snn34', 'nvmfj6hqdspmndlzqhrrznrpcgn', 'lqqgdmn55sfbqhv81', '15pjpskd2543', '91dxxjkr3345rrdhq2', '37hbrznfcqm5pqnmzxvlldhfdrvkqfmxzx8', 'lrfflx9pvrfctxkxk432', '9rhjlqfzg34bvfkbmxbntz1', '6dkgt3bjfgjqnv6lv8', '7527rgztslznxdkgrgf61', 'npchxbnb5zpzrllhx777', 'r44qkvcxsbjnv8wogm', '467ppnrdgpnrkbr5', '334lm', '1dmxv47', '5h18', '643', '5lsffmhsldlfkqkb23k63', '23dpbpjcsqsl94799', 'shvkdvntpmvt52dvclb5bjdj', '857fbjrpbdsdzhnc', 'dv2vqtqghlkprxx63', '4164fnznbcdghfzpd', '851441', '275485', '3331', '9817', '93xb74', '22m81', '752', '5612rdjsgltj', '1791', 'djljfzv7cnpnvhmqkjgn58697', '38xpskzk', 'nzgpp7fdcl622chsgz2', '1tfvvmzfd43kgqd3sfxjggmszz', '7krlgg8864gfp94', '3xxpkqxfxcn', '8hl4cctb26bppqpsc', '85rq', 'hncmdrm54', 'qml6mmx', 'qpckxnrjbdlprhmrq83bcjtghrrfvczqx8', '965', '4mnzr2cvdkmlc6', '3671mnbdqfgcqqcp6', '9kvxrhk2jjjrdlqf49', '77743', 'xnrz1m5', 'c78pg2', 'hxbfzndh6nltvbv', '7zxdkghnzrzljlqf27hfmptrgd', '5jltxrmxn', '98qskgfndxsgmsrprhsvn9llts', 'dz88', '999', 'rphppqzzxk24', '2nz8', '4442', 'q2ne2dgbhqmtzf821548', '65dhmv', 'xsvpdrtvr28ltsj7', '46461nr7', 'qrh2ne3tmt6f', 'sqjvg2pzbzpg396cpsq', 'jlvnsbshjmxnx4162zlff5', 'rzxkpczkn1bkcfbpbcb', '9nmkljlqmd95975xndtdghpc', '62vgp7mzcbjtnd33gmsltfhrgq', '4mktnjsk4839ljqvqf', '47hcbcnhjgxhdfn7rrb1hvlmddb1', '26fchgtdnb28jpqxkb', '7dxtslxqkbq55', '69qnjm725gh2c', '318vx8wogrd', '2296xdvrxv5', '61tqddfm1177', '47994sxnnnfcbtb88', '2npbnblrh3qckkxckflprdnr4', '68227qml', '3122n1cjfnnnlptc', 'tlqtgktgjtg424491', 'gh75676hfstvk', 'qd84vmvgms6681ightps', 'jjvhthplcgzdndmrnxmctrtnndmzztnggr9rspfl6', 'jqk3952', '926r23', 'gccjpxtcxf166695', '7288flzqk77', 'mjljctdbg8', '638', 'bbdlvtsjhjst88', 'dklhhhlpqqxlgdzzh8jntbml44', 'ggrbl5cthnzlsbjs6pt']\n",
      "[42, 75, 29, 27, 59, 95, 19, 52, 41, 45, 69, 47, 15, 83, 44, 66, 29, 94, 38, 24, 11, 23, 99, 94, 13, 38, 68, 87, 17, 66, 65, 33, 78, 14, 33, 72, 28, 18, 91, 77, 11, 15, 44, 21, 33, 53, 71, 31, 16, 18, 11, 24, 15, 31, 21, 76, 26, 49, 11, 34, 58, 97, 88, 55, 34, 52, 39, 28, 66, 54, 29, 38, 33, 16, 39, 93, 98, 25, 17, 23, 42, 89, 41, 44, 68, 63, 44, 63, 44, 98, 99, 34, 99, 82, 79, 57, 33, 82, 97, 28, 88, 38, 98, 66, 93, 33, 57, 88, 16, 88, 62, 16, 82, 33, 22, 31, 82, 69, 22, 49, 16, 35, 12, 25, 27, 38, 77, 24, 93, 13, 74, 98, 32, 73, 56, 34, 58, 74, 91, 29, 25, 85, 31, 28, 61, 33, 51, 57, 66, 95, 88, 42, 66, 93, 85, 72, 89, 65, 87, 34, 96, 66, 71, 92, 24, 39, 23, 57, 58, 17, 28, 74, 34, 86, 36, 16, 82, 65, 24, 32, 55, 42, 55, 84, 54, 14, 62, 95, 97, 77, 81, 81, 15, 44, 99, 55, 17, 46, 36, 66, 95, 77, 99, 73, 46, 68, 16, 47, 44, 21, 56, 61, 91, 38, 33, 49, 59, 73, 14, 85, 32, 52, 43, 25, 96, 95, 11, 45, 59, 64, 21, 27, 77, 57, 69, 79, 13, 72, 75, 29, 68, 66, 69, 61, 35, 99, 25, 48, 59, 17, 18, 68, 88, 31, 85, 64, 98, 56, 53, 51, 43, 93, 88, 95, 48, 25, 61, 95, 69, 12, 68, 22, 29, 74, 56, 69, 38, 89, 52, 33, 85, 64, 54, 32, 56, 11, 44, 75, 11, 21, 44, 88, 22, 96, 57, 76, 34, 74, 93, 47, 55, 11, 91, 87, 66, 97, 45, 87, 86, 91, 32, 54, 24, 88, 67, 64, 44, 96, 58, 78, 78, 87, 51, 37, 18, 98, 32, 16, 93, 49, 31, 33, 65, 77, 35, 64, 93, 87, 36, 66, 62, 86, 31, 51, 79, 13, 71, 55, 28, 27, 87, 91, 61, 52, 96, 58, 33, 54, 94, 26, 11, 83, 71, 94, 35, 18, 81, 88, 28, 31, 96, 25, 37, 12, 56, 69, 19, 17, 45, 71, 59, 27, 27, 42, 88, 13, 78, 81, 55, 85, 57, 33, 13, 17, 49, 31, 46, 59, 56, 11, 93, 47, 56, 98, 32, 11, 83, 25, 41, 24, 88, 44, 79, 29, 32, 92, 66, 63, 71, 65, 96, 22, 11, 17, 33, 69, 17, 99, 81, 55, 11, 58, 61, 11, 25, 19, 12, 73, 27, 59, 44, 81, 82, 97, 96, 21, 38, 88, 39, 82, 65, 11, 59, 82, 97, 87, 76, 96, 45, 49, 29, 65, 59, 76, 22, 95, 64, 99, 87, 82, 55, 45, 46, 68, 61, 95, 73, 38, 94, 56, 29, 88, 67, 86, 92, 29, 36, 42, 62, 41, 44, 61, 31, 32, 34, 49, 88, 55, 56, 11, 66, 33, 53, 94, 52, 92, 78, 99, 58, 37, 96, 41, 96, 76, 43, 96, 13, 18, 78, 22, 86, 95, 62, 93, 94, 43, 67, 41, 85, 19, 83, 58, 13, 96, 91, 67, 65, 22, 82, 98, 17, 91, 65, 84, 72, 51, 93, 75, 87, 39, 24, 16, 11, 32, 88, 53, 97, 22, 15, 49, 95, 92, 57, 22, 88, 43, 79, 36, 35, 66, 65, 33, 48, 86, 73, 75, 85, 14, 57, 88, 24, 91, 83, 61, 22, 44, 31, 41, 36, 66, 41, 55, 86, 47, 59, 33, 81, 42, 75, 74, 73, 23, 85, 54, 44, 77, 66, 58, 48, 48, 99, 11, 54, 81, 67, 43, 23, 11, 45, 42, 44, 39, 11, 61, 69, 66, 77, 55, 44, 93, 25, 31, 72, 11, 16, 85, 47, 58, 55, 94, 26, 14, 25, 75, 12, 26, 23, 83, 47, 66, 97, 59, 62, 74, 24, 43, 24, 18, 55, 42, 62, 66, 14, 38, 53, 36, 57, 32, 66, 46, 22, 55, 76, 33, 25, 11, 39, 39, 12, 96, 92, 84, 74, 53, 16, 22, 67, 28, 19, 24, 68, 34, 18, 92, 31, 42, 55, 18, 26, 42, 65, 95, 79, 81, 35, 51, 38, 61, 76, 92, 27, 34, 11, 34, 35, 91, 71, 87, 26, 36, 34, 25, 22, 31, 84, 44, 51, 69, 88, 15, 23, 34, 73, 83, 49, 14, 12, 58, 24, 24, 72, 75, 35, 38, 77, 53, 95, 56, 36, 84, 21, 39, 47, 95, 25, 54, 89, 18, 11, 54, 81, 96, 89, 49, 65, 22, 78, 36, 44, 99, 67, 25, 77, 91, 42, 85, 23, 66, 37, 38, 73, 47, 48, 97, 41, 11, 97, 84, 42, 63, 17, 49, 61, 47, 47, 59, 15, 14, 88, 55, 27, 62, 77, 99, 43, 14, 68, 54, 73, 29, 88, 33, 74, 78, 49, 57, 57, 81, 32, 91, 36, 16, 23, 33, 35, 11, 92, 52, 79, 26, 31, 22, 52, 22, 62, 52, 92, 12, 58, 53, 39, 18, 79, 93, 14, 24, 77, 58, 35, 92, 16, 41, 99, 15, 25, 53, 79, 79, 99, 43, 66, 53, 56, 36, 72, 17, 13, 72, 18, 59, 31, 17, 44, 57, 62, 26, 26, 94, 62, 28, 92, 44, 61, 36, 82, 24, 66, 96, 15, 82, 93, 42, 28, 64, 92, 93, 25, 12, 24, 37, 44, 84, 29, 75, 18, 52, 14, 66, 51, 13, 92, 38, 92, 91, 68, 71, 57, 48, 45, 34, 17, 58, 63, 53, 29, 55, 87, 23, 44, 81, 25, 31, 97, 94, 21, 72, 52, 11, 77, 38, 72, 13, 74, 33, 86, 85, 54, 66, 88, 95, 46, 36, 99, 73, 15, 72, 66, 77, 55, 99, 88, 99, 24, 28, 42, 28, 65, 27, 47, 26, 26, 45, 11, 95, 63, 49, 41, 28, 75, 62, 38, 25, 67, 48, 24, 67, 31, 41, 76, 81, 96, 32, 93, 15, 77, 88, 68, 88, 84, 56]\n"
     ]
    },
    {
     "data": {
      "text/plain": [
       "54086"
      ]
     },
     "execution_count": 19,
     "metadata": {},
     "output_type": "execute_result"
    }
   ],
   "source": [
    "def line_processor(line):\n",
    "    spelled_out_number_list = [\"one\", \"two\", \"three\", \"four\", \"five\", \"six\", \"seven\", \"eight\", \"nine\"]\n",
    "    \n",
    "    number_value = [i+1 for i in range(len(spelled_out_number_list))]\n",
    "\n",
    "    spell_number_dictionary = dict(zip(spelled_out_number_list, number_value))\n",
    "\n",
    "    priority_list = [1000]*len(spelled_out_number_list)\n",
    "    \n",
    "    for i in range(len(spelled_out_number_list)):\n",
    "        priority_list[i]=line.find(spelled_out_number_list[i])\n",
    "    \n",
    "    spelled_out_number_list = priority_selection_sort(spelled_out_number_list, priority_list)\n",
    "\n",
    "    for i in range(len(spelled_out_number_list)):\n",
    "        line = line.replace(spelled_out_number_list[i], str(spell_number_dictionary[spelled_out_number_list[i]]))\n",
    "    return line\n",
    "\n",
    "# sorts the spelled_out_number_list in an ascending order using selection sort algorithm\n",
    "def priority_selection_sort(spelled_out_number_list, priority_list):\n",
    "\n",
    "    n = len(priority_list)\n",
    "    \n",
    "    # Iterate over n-1 range, because the list index only last until list length minus 1.\n",
    "    for i in range(n-1):\n",
    "\n",
    "        # We assume that the item in index i would be the first priority (the smallest number)\n",
    "        # We will challenge this assumption along as we iterate through the rest of the list\n",
    "        first_priority = i\n",
    "\n",
    "        # Iterate over the remaining element \n",
    "        for j in range(i+1, n):\n",
    "            if priority_list[j] < priority_list[first_priority]:\n",
    "                first_priority = j\n",
    "\n",
    "        # Swapping the element\n",
    "        priority_list[first_priority], priority_list[i] = priority_list[i], priority_list[first_priority]\n",
    "        spelled_out_number_list[first_priority], spelled_out_number_list[i] = spelled_out_number_list[i], spelled_out_number_list[first_priority]\n",
    "\n",
    "    return spelled_out_number_list\n",
    "\n",
    "def aoc_1b_solution(file):\n",
    "    calibration_reading_list = readfile(file)\n",
    "    b = [line_processor(i) for i in calibration_reading_list]\n",
    "    print(b)\n",
    "    a = [text_scanner(i) for i in b]\n",
    "    print(a)\n",
    "    return sum(a)\n",
    "\n",
    "aoc_1b_solution(\"input.txt\")"
   ]
  },
  {
   "cell_type": "code",
   "execution_count": null,
   "metadata": {},
   "outputs": [],
   "source": []
  }
 ],
 "metadata": {
  "kernelspec": {
   "display_name": "Python 3",
   "language": "python",
   "name": "python3"
  },
  "language_info": {
   "codemirror_mode": {
    "name": "ipython",
    "version": 3
   },
   "file_extension": ".py",
   "mimetype": "text/x-python",
   "name": "python",
   "nbconvert_exporter": "python",
   "pygments_lexer": "ipython3",
   "version": "3.9.13"
  }
 },
 "nbformat": 4,
 "nbformat_minor": 2
}
