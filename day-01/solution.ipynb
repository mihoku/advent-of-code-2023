{
 "cells": [
  {
   "cell_type": "code",
   "execution_count": 2,
   "metadata": {},
   "outputs": [
    {
     "ename": "IndexError",
     "evalue": "list index out of range",
     "output_type": "error",
     "traceback": [
      "\u001b[1;31m---------------------------------------------------------------------------\u001b[0m",
      "\u001b[1;31mIndexError\u001b[0m                                Traceback (most recent call last)",
      "\u001b[1;32md:\\Projects\\Advent of Code\\2023\\advent-of-code-2023\\day-01\\solution.ipynb Cell 1\u001b[0m line \u001b[0;36m1\n\u001b[0;32m      <a href='vscode-notebook-cell:/d%3A/Projects/Advent%20of%20Code/2023/advent-of-code-2023/day-01/solution.ipynb#W0sZmlsZQ%3D%3D?line=7'>8</a>\u001b[0m     number_list \u001b[39m=\u001b[39m [i \u001b[39mfor\u001b[39;00m i \u001b[39min\u001b[39;00m line\u001b[39m.\u001b[39msplit() \u001b[39mif\u001b[39;00m i\u001b[39m.\u001b[39misnumeric()]\n\u001b[0;32m      <a href='vscode-notebook-cell:/d%3A/Projects/Advent%20of%20Code/2023/advent-of-code-2023/day-01/solution.ipynb#W0sZmlsZQ%3D%3D?line=8'>9</a>\u001b[0m     \u001b[39mreturn\u001b[39;00m \u001b[39mint\u001b[39m(number_list[\u001b[39m0\u001b[39m]\u001b[39m+\u001b[39mnumber_list[\u001b[39m-\u001b[39m\u001b[39m1\u001b[39m])\n\u001b[1;32m---> <a href='vscode-notebook-cell:/d%3A/Projects/Advent%20of%20Code/2023/advent-of-code-2023/day-01/solution.ipynb#W0sZmlsZQ%3D%3D?line=10'>11</a>\u001b[0m text_scanner(\u001b[39m'\u001b[39;49m\u001b[39mdqfournine5four2jmlqcgv\u001b[39;49m\u001b[39m'\u001b[39;49m)\n",
      "\u001b[1;32md:\\Projects\\Advent of Code\\2023\\advent-of-code-2023\\day-01\\solution.ipynb Cell 1\u001b[0m line \u001b[0;36m9\n\u001b[0;32m      <a href='vscode-notebook-cell:/d%3A/Projects/Advent%20of%20Code/2023/advent-of-code-2023/day-01/solution.ipynb#W0sZmlsZQ%3D%3D?line=6'>7</a>\u001b[0m \u001b[39mdef\u001b[39;00m \u001b[39mtext_scanner\u001b[39m(line):\n\u001b[0;32m      <a href='vscode-notebook-cell:/d%3A/Projects/Advent%20of%20Code/2023/advent-of-code-2023/day-01/solution.ipynb#W0sZmlsZQ%3D%3D?line=7'>8</a>\u001b[0m     number_list \u001b[39m=\u001b[39m [i \u001b[39mfor\u001b[39;00m i \u001b[39min\u001b[39;00m line\u001b[39m.\u001b[39msplit() \u001b[39mif\u001b[39;00m i\u001b[39m.\u001b[39misnumeric()]\n\u001b[1;32m----> <a href='vscode-notebook-cell:/d%3A/Projects/Advent%20of%20Code/2023/advent-of-code-2023/day-01/solution.ipynb#W0sZmlsZQ%3D%3D?line=8'>9</a>\u001b[0m     \u001b[39mreturn\u001b[39;00m \u001b[39mint\u001b[39m(number_list[\u001b[39m0\u001b[39;49m]\u001b[39m+\u001b[39mnumber_list[\u001b[39m-\u001b[39m\u001b[39m1\u001b[39m])\n",
      "\u001b[1;31mIndexError\u001b[0m: list index out of range"
     ]
    }
   ],
   "source": [
    "def readfile(file):\n",
    "    with open(file) as f:\n",
    "        contents = f.read()\n",
    "    \n",
    "    return contents.split('\\n')[:-1]\n",
    "\n",
    "def text_scanner(line):\n",
    "    number_list = [i for i in line.split() if i.isnumeric()]\n",
    "    return number_list\n",
    "    #return int(number_list[0]+number_list[-1])\n",
    "\n",
    "text_scanner('dqfournine5four2jmlqcgv')"
   ]
  },
  {
   "cell_type": "code",
   "execution_count": null,
   "metadata": {},
   "outputs": [],
   "source": []
  }
 ],
 "metadata": {
  "kernelspec": {
   "display_name": "Python 3",
   "language": "python",
   "name": "python3"
  },
  "language_info": {
   "codemirror_mode": {
    "name": "ipython",
    "version": 3
   },
   "file_extension": ".py",
   "mimetype": "text/x-python",
   "name": "python",
   "nbconvert_exporter": "python",
   "pygments_lexer": "ipython3",
   "version": "3.9.13"
  }
 },
 "nbformat": 4,
 "nbformat_minor": 2
}
