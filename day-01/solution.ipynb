{
 "cells": [
  {
   "cell_type": "code",
   "execution_count": 5,
   "metadata": {},
   "outputs": [
    {
     "data": {
      "text/plain": [
       "54708"
      ]
     },
     "execution_count": 5,
     "metadata": {},
     "output_type": "execute_result"
    }
   ],
   "source": [
    "def readfile(file):\n",
    "    with open(file) as f:\n",
    "        contents = f.read()\n",
    "    \n",
    "    return contents.split('\\n')[:-1]\n",
    "\n",
    "def text_scanner(line):\n",
    "    number_list = [i for i in line if i.isnumeric()]\n",
    "    return int(number_list[0]+number_list[-1])\n",
    "\n",
    "def aoc_1a_solution(file):\n",
    "    calibration_reading_list = readfile(file)\n",
    "    return sum([text_scanner(i) for i in calibration_reading_list])\n",
    "\n",
    "aoc_1a_solution(\"input.txt\")"
   ]
  },
  {
   "cell_type": "code",
   "execution_count": 22,
   "metadata": {},
   "outputs": [
    {
     "data": {
      "text/plain": [
       "54087"
      ]
     },
     "execution_count": 22,
     "metadata": {},
     "output_type": "execute_result"
    }
   ],
   "source": [
    "def line_processor(line):\n",
    "    spelled_out_number_list = [\"one\", \"two\", \"three\", \"four\", \"five\", \"six\", \"seven\", \"eight\", \"nine\"]\n",
    "    \n",
    "    number_value = [spelled_out_number_list[i][0]+ str(i+1) +spelled_out_number_list[i][0:] for i in range(len(spelled_out_number_list))]\n",
    "\n",
    "    spell_number_dictionary = dict(zip(spelled_out_number_list, number_value))\n",
    "\n",
    "    for i in range(len(spelled_out_number_list)):\n",
    "        line = line.replace(spelled_out_number_list[i], str(spell_number_dictionary[spelled_out_number_list[i]]))\n",
    "    return line\n",
    "\n",
    "def aoc_1b_solution(file):\n",
    "    calibration_reading_list = readfile(file)\n",
    "    return sum([text_scanner(line_processor(i)) for i in calibration_reading_list])\n",
    "\n",
    "aoc_1b_solution(\"input.txt\")"
   ]
  },
  {
   "cell_type": "code",
   "execution_count": null,
   "metadata": {},
   "outputs": [],
   "source": []
  }
 ],
 "metadata": {
  "kernelspec": {
   "display_name": "Python 3",
   "language": "python",
   "name": "python3"
  },
  "language_info": {
   "codemirror_mode": {
    "name": "ipython",
    "version": 3
   },
   "file_extension": ".py",
   "mimetype": "text/x-python",
   "name": "python",
   "nbconvert_exporter": "python",
   "pygments_lexer": "ipython3",
   "version": "3.9.13"
  }
 },
 "nbformat": 4,
 "nbformat_minor": 2
}
