{
 "cells": [
  {
   "cell_type": "code",
   "execution_count": 6,
   "metadata": {},
   "outputs": [
    {
     "data": {
      "text/plain": [
       "449820"
      ]
     },
     "execution_count": 6,
     "metadata": {},
     "output_type": "execute_result"
    }
   ],
   "source": [
    "def readfile(file):\n",
    "    with open(file) as f:\n",
    "        contents = f.read()[:-1].split('\\n')\n",
    "\n",
    "    time_list = [int(i) for i in contents[0].split() if i.isnumeric()]\n",
    "\n",
    "    distance_list = [int(i) for i in contents[1].split() if i.isnumeric()]\n",
    "\n",
    "    return dict(zip(time_list, distance_list))\n",
    "\n",
    "def binary_record_breaker(time, distance):\n",
    "    max_time = time\n",
    "    min_time = 0\n",
    "    initial_mid_time = (time)//2\n",
    "    limit=''\n",
    "    while limit=='':\n",
    "        mid_time = (min_time+max_time)//2\n",
    "        if (time-mid_time)*mid_time<=distance and mid_time==initial_mid_time:\n",
    "            return 0\n",
    "        elif (time-mid_time)*mid_time>distance:\n",
    "            max_time = mid_time\n",
    "        elif (time-mid_time)*mid_time<=distance:\n",
    "            if (time-(mid_time+1))*(mid_time+1)>distance:\n",
    "                limit = mid_time+1\n",
    "            else:\n",
    "                min_time=mid_time\n",
    "\n",
    "    return len([i for i in range(limit,time-limit+1)])\n",
    "\n",
    "def aoc_6a_solution(file):\n",
    "    record_dictionary = readfile(file)\n",
    "    record_breaker_ways = 1\n",
    "\n",
    "    for keys in record_dictionary.keys():\n",
    "        record_breaker_ways *= binary_record_breaker(keys, record_dictionary[keys])\n",
    "    \n",
    "    return record_breaker_ways\n",
    "\n",
    "aoc_6a_solution('input.txt')"
   ]
  },
  {
   "cell_type": "code",
   "execution_count": 5,
   "metadata": {},
   "outputs": [
    {
     "data": {
      "text/plain": [
       "3"
      ]
     },
     "execution_count": 5,
     "metadata": {},
     "output_type": "execute_result"
    }
   ],
   "source": [
    "7//2"
   ]
  },
  {
   "cell_type": "code",
   "execution_count": null,
   "metadata": {},
   "outputs": [],
   "source": []
  }
 ],
 "metadata": {
  "kernelspec": {
   "display_name": "Python 3",
   "language": "python",
   "name": "python3"
  },
  "language_info": {
   "codemirror_mode": {
    "name": "ipython",
    "version": 3
   },
   "file_extension": ".py",
   "mimetype": "text/x-python",
   "name": "python",
   "nbconvert_exporter": "python",
   "pygments_lexer": "ipython3",
   "version": "3.9.13"
  }
 },
 "nbformat": 4,
 "nbformat_minor": 2
}
