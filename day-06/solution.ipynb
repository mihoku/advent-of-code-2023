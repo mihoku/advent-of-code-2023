{
 "cells": [
  {
   "cell_type": "code",
   "execution_count": 1,
   "metadata": {},
   "outputs": [
    {
     "data": {
      "text/plain": [
       "449820"
      ]
     },
     "execution_count": 1,
     "metadata": {},
     "output_type": "execute_result"
    }
   ],
   "source": [
    "def readfile(file):\n",
    "    with open(file) as f:\n",
    "        contents = f.read()[:-1].split('\\n')\n",
    "\n",
    "    time_list = [int(i) for i in contents[0].split() if i.isnumeric()]\n",
    "\n",
    "    distance_list = [int(i) for i in contents[1].split() if i.isnumeric()]\n",
    "\n",
    "    return dict(zip(time_list, distance_list))\n",
    "\n",
    "def binary_record_breaker(time, distance):\n",
    "    max_time = time\n",
    "    min_time = 0\n",
    "    initial_mid_time = (time)//2\n",
    "    limit=''\n",
    "    while limit=='':\n",
    "        mid_time = (min_time+max_time)//2\n",
    "        if (time-mid_time)*mid_time<=distance and mid_time==initial_mid_time:\n",
    "            return 0\n",
    "        elif (time-mid_time)*mid_time>distance:\n",
    "            max_time = mid_time\n",
    "        elif (time-mid_time)*mid_time<=distance:\n",
    "            if (time-(mid_time+1))*(mid_time+1)>distance:\n",
    "                limit = mid_time+1\n",
    "            else:\n",
    "                min_time=mid_time\n",
    "\n",
    "    return len(range(limit,time-limit+1))\n",
    "\n",
    "def aoc_6a_solution(file):\n",
    "    record_dictionary = readfile(file)\n",
    "    record_breaker_ways = 1\n",
    "\n",
    "    for key in record_dictionary.keys():\n",
    "        record_breaker_ways *= binary_record_breaker(key, record_dictionary[key])\n",
    "    \n",
    "    return record_breaker_ways\n",
    "\n",
    "aoc_6a_solution('input.txt')"
   ]
  },
  {
   "cell_type": "code",
   "execution_count": 2,
   "metadata": {},
   "outputs": [
    {
     "data": {
      "text/plain": [
       "42250895"
      ]
     },
     "execution_count": 2,
     "metadata": {},
     "output_type": "execute_result"
    }
   ],
   "source": [
    "def aoc_6b_solution(file):\n",
    "    record_dictionary = readfile(file)\n",
    "\n",
    "    time_string = ''\n",
    "    distance_string = ''\n",
    "\n",
    "    for key in record_dictionary.keys():\n",
    "        time_string+=str(key)\n",
    "        distance_string+=str(record_dictionary[key])\n",
    "    \n",
    "    record_breaker_ways = binary_record_breaker(int(time_string), int(distance_string))\n",
    "    \n",
    "    return record_breaker_ways\n",
    "\n",
    "aoc_6b_solution('input.txt')"
   ]
  },
  {
   "cell_type": "markdown",
   "metadata": {},
   "source": [
    "## Alternative using Linear Search Algorithm"
   ]
  },
  {
   "cell_type": "code",
   "execution_count": 4,
   "metadata": {},
   "outputs": [
    {
     "data": {
      "text/plain": [
       "449820"
      ]
     },
     "execution_count": 4,
     "metadata": {},
     "output_type": "execute_result"
    }
   ],
   "source": [
    "def linear_record_breaker(time, distance):\n",
    "    initial_mid_time = (time)//2\n",
    "    quarter = time//4\n",
    "    if (time-quarter)*quarter<distance:\n",
    "        for i in range(initial_mid_time,0,-1):\n",
    "            if (time-i)*i<=distance and (time-(i+1))*(i+1)>distance:\n",
    "                return len(range(i+1,time-i))\n",
    "        return 0\n",
    "    else:\n",
    "        for i in range(0,initial_mid_time):\n",
    "            if (time-i)*i<=distance and (time-(i+1))*(i+1)>distance:\n",
    "                return len(range(i+1,time-i))\n",
    "        return 0\n",
    "\n",
    "def linear_aoc_6a_solution(file):\n",
    "    record_dictionary = readfile(file)\n",
    "    record_breaker_ways = 1\n",
    "\n",
    "    for key in record_dictionary.keys():\n",
    "        record_breaker_ways *= linear_record_breaker(key, record_dictionary[key])\n",
    "    \n",
    "    return record_breaker_ways\n",
    "\n",
    "linear_aoc_6a_solution('input.txt')"
   ]
  },
  {
   "cell_type": "code",
   "execution_count": 7,
   "metadata": {},
   "outputs": [
    {
     "data": {
      "text/plain": [
       "42250895"
      ]
     },
     "execution_count": 7,
     "metadata": {},
     "output_type": "execute_result"
    }
   ],
   "source": [
    "def linear_aoc_6b_solution(file):\n",
    "    record_dictionary = readfile(file)\n",
    "\n",
    "    time_string = ''\n",
    "    distance_string = ''\n",
    "\n",
    "    for key in record_dictionary.keys():\n",
    "        time_string+=str(key)\n",
    "        distance_string+=str(record_dictionary[key])\n",
    "    \n",
    "    record_breaker_ways = linear_record_breaker(int(time_string), int(distance_string))\n",
    "    \n",
    "    return record_breaker_ways\n",
    "\n",
    "linear_aoc_6b_solution('input.txt')"
   ]
  },
  {
   "cell_type": "markdown",
   "metadata": {},
   "source": [
    "## Timer test"
   ]
  },
  {
   "cell_type": "code",
   "execution_count": 11,
   "metadata": {},
   "outputs": [
    {
     "name": "stdout",
     "output_type": "stream",
     "text": [
      "Binary Search: 0.0002902999985963106\n",
      "Linear Search: 1.111210300005041\n"
     ]
    }
   ],
   "source": [
    "import timeit\n",
    "\n",
    "start = timeit.default_timer()\n",
    "aoc_6b_solution('input.txt')\n",
    "stop = timeit.default_timer()\n",
    "\n",
    "print(f'Binary Search: {stop-start}')\n",
    "\n",
    "start = timeit.default_timer()\n",
    "linear_aoc_6b_solution('input.txt')\n",
    "stop = timeit.default_timer()\n",
    "\n",
    "print(f'Linear Search: {stop-start}')"
   ]
  },
  {
   "cell_type": "code",
   "execution_count": null,
   "metadata": {},
   "outputs": [],
   "source": []
  }
 ],
 "metadata": {
  "kernelspec": {
   "display_name": "Python 3",
   "language": "python",
   "name": "python3"
  },
  "language_info": {
   "codemirror_mode": {
    "name": "ipython",
    "version": 3
   },
   "file_extension": ".py",
   "mimetype": "text/x-python",
   "name": "python",
   "nbconvert_exporter": "python",
   "pygments_lexer": "ipython3",
   "version": "3.11.6"
  }
 },
 "nbformat": 4,
 "nbformat_minor": 2
}
